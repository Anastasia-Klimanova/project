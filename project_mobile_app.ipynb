{
 "cells": [
  {
   "cell_type": "markdown",
   "metadata": {},
   "source": [
    "# Анализ поведения пользователей мобильного приложения по продаже продуктов питания."
   ]
  },
  {
   "cell_type": "markdown",
   "metadata": {},
   "source": [
    "1. [Описание проекта](#section_id)\n",
    "2. [Предобработка данных](#step_1)\n",
    "    1. [Общая информация](#step_1_1)\n",
    "    2. [Обработка дубликатов и переименование столбцов](#step_1_2)\n",
    "3.[Изучение данных](#step_2)\n",
    "4.[Анализ воронки событий](#step_3)\n",
    "5.[Анализ результатов эксперимента](#step_4)\n",
    "    1. [A/A тест](#step_4_1)\n",
    "    2. [A/A/B тест](#step_4_2)\n",
    "    3. [Поправка Бонферрони](#step_4_3)\n",
    "6.[Вывод](#step_5)"
   ]
  },
  {
   "cell_type": "markdown",
   "metadata": {},
   "source": [
    "<a id='section_id'></a>\n",
    "## Описание проекта"
   ]
  },
  {
   "cell_type": "markdown",
   "metadata": {},
   "source": [
    "Проведем анализ пользователей мобильного приложения по файлу с событиями, произведенных в мобильном приложении. \n",
    "Каждая запись в логе — это действие пользователя, или событие.\n",
    "* EventName — название события;\n",
    "* DeviceIDHash — уникальный идентификатор пользователя;\n",
    "* EventTimestamp — время события;\n",
    "* ExpId — номер эксперимента: 246 и 247 — контрольные группы, а 248 — экспериментальная.\n"
   ]
  },
  {
   "cell_type": "markdown",
   "metadata": {},
   "source": [
    "<a id='step_1'></a>\n",
    "## Предобработка данных"
   ]
  },
  {
   "cell_type": "markdown",
   "metadata": {},
   "source": [
    "<a id='step_1_1'></a>\n",
    "### Общая информация"
   ]
  },
  {
   "cell_type": "code",
   "execution_count": 1,
   "metadata": {},
   "outputs": [],
   "source": [
    "#импортируем библиотеки\n",
    "import pandas as pd\n",
    "import matplotlib.pyplot as plt\n",
    "from pandas.plotting import register_matplotlib_converters\n",
    "import warnings\n",
    "warnings.filterwarnings('ignore')\n",
    "import warnings\n",
    "register_matplotlib_converters()\n",
    "import plotly.express as px \n",
    "from plotly import graph_objects as go\n",
    "import numpy as np\n",
    "import seaborn as sns\n",
    "import math\n",
    "import scipy.stats as stats"
   ]
  },
  {
   "cell_type": "code",
   "execution_count": 2,
   "metadata": {},
   "outputs": [],
   "source": [
    "# Функция для вывода основной информации \n",
    "def df_info(df):\n",
    "    df.info()\n",
    "    print('Случайная выборка по данным')\n",
    "    display(df.sample(n=5, random_state=1))\n",
    "    print('*'*50)\n",
    "    print('Первичная статистика по данным')\n",
    "    display(df.describe().T)\n",
    "    print('*'*50)\n",
    "    print('Количество полных дубликатов:',sum(df.duplicated()))"
   ]
  },
  {
   "cell_type": "code",
   "execution_count": 3,
   "metadata": {},
   "outputs": [
    {
     "name": "stdout",
     "output_type": "stream",
     "text": [
      "<class 'pandas.core.frame.DataFrame'>\n",
      "RangeIndex: 244126 entries, 0 to 244125\n",
      "Data columns (total 4 columns):\n",
      " #   Column          Non-Null Count   Dtype \n",
      "---  ------          --------------   ----- \n",
      " 0   EventName       244126 non-null  object\n",
      " 1   DeviceIDHash    244126 non-null  int64 \n",
      " 2   EventTimestamp  244126 non-null  int64 \n",
      " 3   ExpId           244126 non-null  int64 \n",
      "dtypes: int64(3), object(1)\n",
      "memory usage: 7.5+ MB\n",
      "Случайная выборка по данным\n"
     ]
    },
    {
     "data": {
      "text/html": [
       "<div>\n",
       "<style scoped>\n",
       "    .dataframe tbody tr th:only-of-type {\n",
       "        vertical-align: middle;\n",
       "    }\n",
       "\n",
       "    .dataframe tbody tr th {\n",
       "        vertical-align: top;\n",
       "    }\n",
       "\n",
       "    .dataframe thead th {\n",
       "        text-align: right;\n",
       "    }\n",
       "</style>\n",
       "<table border=\"1\" class=\"dataframe\">\n",
       "  <thead>\n",
       "    <tr style=\"text-align: right;\">\n",
       "      <th></th>\n",
       "      <th>EventName</th>\n",
       "      <th>DeviceIDHash</th>\n",
       "      <th>EventTimestamp</th>\n",
       "      <th>ExpId</th>\n",
       "    </tr>\n",
       "  </thead>\n",
       "  <tbody>\n",
       "    <tr>\n",
       "      <th>120873</th>\n",
       "      <td>MainScreenAppear</td>\n",
       "      <td>9096061512161785646</td>\n",
       "      <td>1564917596</td>\n",
       "      <td>248</td>\n",
       "    </tr>\n",
       "    <tr>\n",
       "      <th>4103</th>\n",
       "      <td>OffersScreenAppear</td>\n",
       "      <td>1074933668878523996</td>\n",
       "      <td>1564631437</td>\n",
       "      <td>247</td>\n",
       "    </tr>\n",
       "    <tr>\n",
       "      <th>92724</th>\n",
       "      <td>OffersScreenAppear</td>\n",
       "      <td>8115340604306569112</td>\n",
       "      <td>1564838447</td>\n",
       "      <td>246</td>\n",
       "    </tr>\n",
       "    <tr>\n",
       "      <th>128891</th>\n",
       "      <td>CartScreenAppear</td>\n",
       "      <td>3163109716415429772</td>\n",
       "      <td>1564930563</td>\n",
       "      <td>246</td>\n",
       "    </tr>\n",
       "    <tr>\n",
       "      <th>186942</th>\n",
       "      <td>OffersScreenAppear</td>\n",
       "      <td>2405626918155135838</td>\n",
       "      <td>1565082344</td>\n",
       "      <td>247</td>\n",
       "    </tr>\n",
       "  </tbody>\n",
       "</table>\n",
       "</div>"
      ],
      "text/plain": [
       "                 EventName         DeviceIDHash  EventTimestamp  ExpId\n",
       "120873    MainScreenAppear  9096061512161785646      1564917596    248\n",
       "4103    OffersScreenAppear  1074933668878523996      1564631437    247\n",
       "92724   OffersScreenAppear  8115340604306569112      1564838447    246\n",
       "128891    CartScreenAppear  3163109716415429772      1564930563    246\n",
       "186942  OffersScreenAppear  2405626918155135838      1565082344    247"
      ]
     },
     "metadata": {},
     "output_type": "display_data"
    },
    {
     "name": "stdout",
     "output_type": "stream",
     "text": [
      "**************************************************\n",
      "Первичная статистика по данным\n"
     ]
    },
    {
     "data": {
      "text/html": [
       "<div>\n",
       "<style scoped>\n",
       "    .dataframe tbody tr th:only-of-type {\n",
       "        vertical-align: middle;\n",
       "    }\n",
       "\n",
       "    .dataframe tbody tr th {\n",
       "        vertical-align: top;\n",
       "    }\n",
       "\n",
       "    .dataframe thead th {\n",
       "        text-align: right;\n",
       "    }\n",
       "</style>\n",
       "<table border=\"1\" class=\"dataframe\">\n",
       "  <thead>\n",
       "    <tr style=\"text-align: right;\">\n",
       "      <th></th>\n",
       "      <th>count</th>\n",
       "      <th>mean</th>\n",
       "      <th>std</th>\n",
       "      <th>min</th>\n",
       "      <th>25%</th>\n",
       "      <th>50%</th>\n",
       "      <th>75%</th>\n",
       "      <th>max</th>\n",
       "    </tr>\n",
       "  </thead>\n",
       "  <tbody>\n",
       "    <tr>\n",
       "      <th>DeviceIDHash</th>\n",
       "      <td>244126.0</td>\n",
       "      <td>4.627568e+18</td>\n",
       "      <td>2.642425e+18</td>\n",
       "      <td>6.888747e+15</td>\n",
       "      <td>2.372212e+18</td>\n",
       "      <td>4.623192e+18</td>\n",
       "      <td>6.932517e+18</td>\n",
       "      <td>9.222603e+18</td>\n",
       "    </tr>\n",
       "    <tr>\n",
       "      <th>EventTimestamp</th>\n",
       "      <td>244126.0</td>\n",
       "      <td>1.564914e+09</td>\n",
       "      <td>1.771343e+05</td>\n",
       "      <td>1.564030e+09</td>\n",
       "      <td>1.564757e+09</td>\n",
       "      <td>1.564919e+09</td>\n",
       "      <td>1.565075e+09</td>\n",
       "      <td>1.565213e+09</td>\n",
       "    </tr>\n",
       "    <tr>\n",
       "      <th>ExpId</th>\n",
       "      <td>244126.0</td>\n",
       "      <td>2.470223e+02</td>\n",
       "      <td>8.244339e-01</td>\n",
       "      <td>2.460000e+02</td>\n",
       "      <td>2.460000e+02</td>\n",
       "      <td>2.470000e+02</td>\n",
       "      <td>2.480000e+02</td>\n",
       "      <td>2.480000e+02</td>\n",
       "    </tr>\n",
       "  </tbody>\n",
       "</table>\n",
       "</div>"
      ],
      "text/plain": [
       "                   count          mean           std           min  \\\n",
       "DeviceIDHash    244126.0  4.627568e+18  2.642425e+18  6.888747e+15   \n",
       "EventTimestamp  244126.0  1.564914e+09  1.771343e+05  1.564030e+09   \n",
       "ExpId           244126.0  2.470223e+02  8.244339e-01  2.460000e+02   \n",
       "\n",
       "                         25%           50%           75%           max  \n",
       "DeviceIDHash    2.372212e+18  4.623192e+18  6.932517e+18  9.222603e+18  \n",
       "EventTimestamp  1.564757e+09  1.564919e+09  1.565075e+09  1.565213e+09  \n",
       "ExpId           2.460000e+02  2.470000e+02  2.480000e+02  2.480000e+02  "
      ]
     },
     "metadata": {},
     "output_type": "display_data"
    },
    {
     "name": "stdout",
     "output_type": "stream",
     "text": [
      "**************************************************\n",
      "Количество полных дубликатов: 413\n"
     ]
    }
   ],
   "source": [
    "#сохраняем датасет\n",
    "df = pd.read_csv('C:\\\\Users\\\\User\\\\Documents\\\\DataScience\\\\Проекты\\\\Анализ пользовательского поведения в мобильном приложении\\\\logs_exp.csv', sep='\\t')\n",
    "df_info(df)"
   ]
  },
  {
   "cell_type": "code",
   "execution_count": 4,
   "metadata": {},
   "outputs": [
    {
     "data": {
      "text/html": [
       "<div>\n",
       "<style scoped>\n",
       "    .dataframe tbody tr th:only-of-type {\n",
       "        vertical-align: middle;\n",
       "    }\n",
       "\n",
       "    .dataframe tbody tr th {\n",
       "        vertical-align: top;\n",
       "    }\n",
       "\n",
       "    .dataframe thead th {\n",
       "        text-align: right;\n",
       "    }\n",
       "</style>\n",
       "<table border=\"1\" class=\"dataframe\">\n",
       "  <thead>\n",
       "    <tr style=\"text-align: right;\">\n",
       "      <th></th>\n",
       "      <th>EventName</th>\n",
       "      <th>DeviceIDHash</th>\n",
       "      <th>EventTimestamp</th>\n",
       "      <th>ExpId</th>\n",
       "    </tr>\n",
       "  </thead>\n",
       "  <tbody>\n",
       "    <tr>\n",
       "      <th>0</th>\n",
       "      <td>MainScreenAppear</td>\n",
       "      <td>4575588528974610257</td>\n",
       "      <td>2019-07-25 04:43:36</td>\n",
       "      <td>246</td>\n",
       "    </tr>\n",
       "    <tr>\n",
       "      <th>1</th>\n",
       "      <td>MainScreenAppear</td>\n",
       "      <td>7416695313311560658</td>\n",
       "      <td>2019-07-25 11:11:42</td>\n",
       "      <td>246</td>\n",
       "    </tr>\n",
       "    <tr>\n",
       "      <th>2</th>\n",
       "      <td>PaymentScreenSuccessful</td>\n",
       "      <td>3518123091307005509</td>\n",
       "      <td>2019-07-25 11:28:47</td>\n",
       "      <td>248</td>\n",
       "    </tr>\n",
       "    <tr>\n",
       "      <th>3</th>\n",
       "      <td>CartScreenAppear</td>\n",
       "      <td>3518123091307005509</td>\n",
       "      <td>2019-07-25 11:28:47</td>\n",
       "      <td>248</td>\n",
       "    </tr>\n",
       "    <tr>\n",
       "      <th>4</th>\n",
       "      <td>PaymentScreenSuccessful</td>\n",
       "      <td>6217807653094995999</td>\n",
       "      <td>2019-07-25 11:48:42</td>\n",
       "      <td>248</td>\n",
       "    </tr>\n",
       "  </tbody>\n",
       "</table>\n",
       "</div>"
      ],
      "text/plain": [
       "                 EventName         DeviceIDHash      EventTimestamp  ExpId\n",
       "0         MainScreenAppear  4575588528974610257 2019-07-25 04:43:36    246\n",
       "1         MainScreenAppear  7416695313311560658 2019-07-25 11:11:42    246\n",
       "2  PaymentScreenSuccessful  3518123091307005509 2019-07-25 11:28:47    248\n",
       "3         CartScreenAppear  3518123091307005509 2019-07-25 11:28:47    248\n",
       "4  PaymentScreenSuccessful  6217807653094995999 2019-07-25 11:48:42    248"
      ]
     },
     "execution_count": 4,
     "metadata": {},
     "output_type": "execute_result"
    }
   ],
   "source": [
    "#столбец с датой отображается некорректно, заменим тип данных\n",
    "df['EventTimestamp'] = pd.to_datetime(df['EventTimestamp'],unit='s') \n",
    "df.head() #вывод таблицы"
   ]
  },
  {
   "cell_type": "markdown",
   "metadata": {},
   "source": [
    "**Вывод** В таблице 244126 строк и 4 столбца с данными, тип данных у столбца с датой события уже был изменен на соответсвующий datetime, так как чтение файла без этой замены было некорректно. Явных дубликатов выявлено 413 строк, пропущенных значений нет."
   ]
  },
  {
   "cell_type": "markdown",
   "metadata": {},
   "source": [
    "<a id='step_1_2'></a>\n",
    "### Обработка дубликатов и переименование столбцов"
   ]
  },
  {
   "cell_type": "code",
   "execution_count": 5,
   "metadata": {},
   "outputs": [
    {
     "data": {
      "text/plain": [
       "0"
      ]
     },
     "execution_count": 5,
     "metadata": {},
     "output_type": "execute_result"
    }
   ],
   "source": [
    "# удаление явных дубликатов (с удалением старых индексов и формированием новых)\n",
    "df = df.drop_duplicates().reset_index(drop=True) \n",
    "df.duplicated().sum() #проверка удаления"
   ]
  },
  {
   "cell_type": "code",
   "execution_count": 6,
   "metadata": {},
   "outputs": [
    {
     "data": {
      "text/plain": [
       "Index(['event_name', 'id', 'event_time', 'group'], dtype='object')"
      ]
     },
     "execution_count": 6,
     "metadata": {},
     "output_type": "execute_result"
    }
   ],
   "source": [
    "df = df.rename(columns = {'EventName' : 'event_name',\n",
    "                          'DeviceIDHash' : 'id','EventTimestamp' : 'event_time', 'ExpId':'group'}) # переименование столбцов\n",
    "df.columns #проверка переименования столбцов"
   ]
  },
  {
   "cell_type": "code",
   "execution_count": 7,
   "metadata": {},
   "outputs": [
    {
     "data": {
      "text/html": [
       "<div>\n",
       "<style scoped>\n",
       "    .dataframe tbody tr th:only-of-type {\n",
       "        vertical-align: middle;\n",
       "    }\n",
       "\n",
       "    .dataframe tbody tr th {\n",
       "        vertical-align: top;\n",
       "    }\n",
       "\n",
       "    .dataframe thead th {\n",
       "        text-align: right;\n",
       "    }\n",
       "</style>\n",
       "<table border=\"1\" class=\"dataframe\">\n",
       "  <thead>\n",
       "    <tr style=\"text-align: right;\">\n",
       "      <th></th>\n",
       "      <th>event_name</th>\n",
       "      <th>id</th>\n",
       "      <th>event_time</th>\n",
       "      <th>group</th>\n",
       "      <th>date</th>\n",
       "    </tr>\n",
       "  </thead>\n",
       "  <tbody>\n",
       "    <tr>\n",
       "      <th>0</th>\n",
       "      <td>MainScreenAppear</td>\n",
       "      <td>4575588528974610257</td>\n",
       "      <td>2019-07-25 04:43:36</td>\n",
       "      <td>246</td>\n",
       "      <td>2019-07-25</td>\n",
       "    </tr>\n",
       "    <tr>\n",
       "      <th>1</th>\n",
       "      <td>MainScreenAppear</td>\n",
       "      <td>7416695313311560658</td>\n",
       "      <td>2019-07-25 11:11:42</td>\n",
       "      <td>246</td>\n",
       "      <td>2019-07-25</td>\n",
       "    </tr>\n",
       "    <tr>\n",
       "      <th>2</th>\n",
       "      <td>PaymentScreenSuccessful</td>\n",
       "      <td>3518123091307005509</td>\n",
       "      <td>2019-07-25 11:28:47</td>\n",
       "      <td>248</td>\n",
       "      <td>2019-07-25</td>\n",
       "    </tr>\n",
       "    <tr>\n",
       "      <th>3</th>\n",
       "      <td>CartScreenAppear</td>\n",
       "      <td>3518123091307005509</td>\n",
       "      <td>2019-07-25 11:28:47</td>\n",
       "      <td>248</td>\n",
       "      <td>2019-07-25</td>\n",
       "    </tr>\n",
       "    <tr>\n",
       "      <th>4</th>\n",
       "      <td>PaymentScreenSuccessful</td>\n",
       "      <td>6217807653094995999</td>\n",
       "      <td>2019-07-25 11:48:42</td>\n",
       "      <td>248</td>\n",
       "      <td>2019-07-25</td>\n",
       "    </tr>\n",
       "  </tbody>\n",
       "</table>\n",
       "</div>"
      ],
      "text/plain": [
       "                event_name                   id          event_time  group  \\\n",
       "0         MainScreenAppear  4575588528974610257 2019-07-25 04:43:36    246   \n",
       "1         MainScreenAppear  7416695313311560658 2019-07-25 11:11:42    246   \n",
       "2  PaymentScreenSuccessful  3518123091307005509 2019-07-25 11:28:47    248   \n",
       "3         CartScreenAppear  3518123091307005509 2019-07-25 11:28:47    248   \n",
       "4  PaymentScreenSuccessful  6217807653094995999 2019-07-25 11:48:42    248   \n",
       "\n",
       "         date  \n",
       "0  2019-07-25  \n",
       "1  2019-07-25  \n",
       "2  2019-07-25  \n",
       "3  2019-07-25  \n",
       "4  2019-07-25  "
      ]
     },
     "execution_count": 7,
     "metadata": {},
     "output_type": "execute_result"
    }
   ],
   "source": [
    "#добавим отдельный столбец для дат\n",
    "df['date'] = df['event_time'].dt.date\n",
    "df.head()"
   ]
  },
  {
   "cell_type": "markdown",
   "metadata": {},
   "source": [
    "**Вывод** В таблице было выявлено и удалено 413 явных дубликатов, также для удобства работы были переименованы названия столбцов и сформирован отдельный столбец  с датой проведенного события. Дубликаты могли получиться из за некорретности сбора данных или выгрузку делали несколько раз за один и тот же период "
   ]
  },
  {
   "cell_type": "markdown",
   "metadata": {},
   "source": [
    "<a id='step_2'></a>\n",
    "## Изучение данных"
   ]
  },
  {
   "cell_type": "markdown",
   "metadata": {},
   "source": [
    "Рассмотрим с каким количеством данных мы можем работать."
   ]
  },
  {
   "cell_type": "code",
   "execution_count": 8,
   "metadata": {},
   "outputs": [
    {
     "name": "stdout",
     "output_type": "stream",
     "text": [
      "Количество событий в логе: 243713\n"
     ]
    }
   ],
   "source": [
    "print('Количество событий в логе:', len(df))"
   ]
  },
  {
   "cell_type": "code",
   "execution_count": 9,
   "metadata": {},
   "outputs": [
    {
     "name": "stdout",
     "output_type": "stream",
     "text": [
      "Количество пользователей в логе: 7551\n"
     ]
    }
   ],
   "source": [
    "print('Количество пользователей в логе:', df['id'].nunique())"
   ]
  },
  {
   "cell_type": "code",
   "execution_count": 10,
   "metadata": {},
   "outputs": [
    {
     "data": {
      "text/html": [
       "<div>\n",
       "<style scoped>\n",
       "    .dataframe tbody tr th:only-of-type {\n",
       "        vertical-align: middle;\n",
       "    }\n",
       "\n",
       "    .dataframe tbody tr th {\n",
       "        vertical-align: top;\n",
       "    }\n",
       "\n",
       "    .dataframe thead th {\n",
       "        text-align: right;\n",
       "    }\n",
       "</style>\n",
       "<table border=\"1\" class=\"dataframe\">\n",
       "  <thead>\n",
       "    <tr style=\"text-align: right;\">\n",
       "      <th></th>\n",
       "      <th>event_name</th>\n",
       "    </tr>\n",
       "  </thead>\n",
       "  <tbody>\n",
       "    <tr>\n",
       "      <th>count</th>\n",
       "      <td>7551.000000</td>\n",
       "    </tr>\n",
       "    <tr>\n",
       "      <th>mean</th>\n",
       "      <td>32.275593</td>\n",
       "    </tr>\n",
       "    <tr>\n",
       "      <th>std</th>\n",
       "      <td>65.154219</td>\n",
       "    </tr>\n",
       "    <tr>\n",
       "      <th>min</th>\n",
       "      <td>1.000000</td>\n",
       "    </tr>\n",
       "    <tr>\n",
       "      <th>25%</th>\n",
       "      <td>9.000000</td>\n",
       "    </tr>\n",
       "    <tr>\n",
       "      <th>50%</th>\n",
       "      <td>20.000000</td>\n",
       "    </tr>\n",
       "    <tr>\n",
       "      <th>75%</th>\n",
       "      <td>37.000000</td>\n",
       "    </tr>\n",
       "    <tr>\n",
       "      <th>max</th>\n",
       "      <td>2307.000000</td>\n",
       "    </tr>\n",
       "  </tbody>\n",
       "</table>\n",
       "</div>"
      ],
      "text/plain": [
       "        event_name\n",
       "count  7551.000000\n",
       "mean     32.275593\n",
       "std      65.154219\n",
       "min       1.000000\n",
       "25%       9.000000\n",
       "50%      20.000000\n",
       "75%      37.000000\n",
       "max    2307.000000"
      ]
     },
     "execution_count": 10,
     "metadata": {},
     "output_type": "execute_result"
    }
   ],
   "source": [
    "df.pivot_table(index='id',values = 'event_name',aggfunc='count').describe()\n",
    "#Выводим статистические значения\n",
    "#по количеству событий на пользователя"
   ]
  },
  {
   "cell_type": "code",
   "execution_count": 11,
   "metadata": {},
   "outputs": [
    {
     "data": {
      "text/plain": [
       "datetime.date(2019, 8, 7)"
      ]
     },
     "execution_count": 11,
     "metadata": {},
     "output_type": "execute_result"
    }
   ],
   "source": [
    "df['date'].max() #максимальная дата в логе"
   ]
  },
  {
   "cell_type": "code",
   "execution_count": 12,
   "metadata": {},
   "outputs": [
    {
     "data": {
      "text/plain": [
       "datetime.date(2019, 7, 25)"
      ]
     },
     "execution_count": 12,
     "metadata": {},
     "output_type": "execute_result"
    }
   ],
   "source": [
    "df['date'].min() #минимальная дата в логе"
   ]
  },
  {
   "cell_type": "markdown",
   "metadata": {},
   "source": [
    "В датафрейме хранятся результаты событий с 25 июля 2019 года по 7 августа 2019 года, это составляет ровно 14 дней, т.е. 2 недели. Рассмотрим, как распределяются события по времени"
   ]
  },
  {
   "cell_type": "code",
   "execution_count": 13,
   "metadata": {},
   "outputs": [
    {
     "data": {
      "image/png": "[encoded data removed]",
      "text/plain": [
       "<Figure size 1080x576 with 1 Axes>"
      ]
     },
     "metadata": {
      "needs_background": "light"
     },
     "output_type": "display_data"
    }
   ],
   "source": [
    "sns.set_palette('pastel') # задаем цветовую гамму для всех графиков\n",
    "df_pivot = df.groupby('date').agg({'event_name':'count'}).reset_index(drop=False)\n",
    "plt.figure(figsize = (15,8))\n",
    "sns.barplot(x='date', y='event_name',data=df_pivot)\n",
    "plt.xticks(rotation=45)\n",
    "plt.xlabel('Дата')\n",
    "plt.ylabel('Количество событий')\n",
    "plt.title('Распределение событий по времени')\n",
    "plt.show()"
   ]
  },
  {
   "cell_type": "markdown",
   "metadata": {},
   "source": [
    "Исходя из полученного графика мы отчетливо видим, что до 1 августа событий почти нет, т.е. мы можем считать эти данные неполными и не брать их в дальнейший анализ, так как делать какие либо выводы по первой неделе неверно и это может исказить результат ислледования."
   ]
  },
  {
   "cell_type": "code",
   "execution_count": 14,
   "metadata": {},
   "outputs": [
    {
     "name": "stdout",
     "output_type": "stream",
     "text": [
      "Количество событий в отфильтрованном логе: 240887\n",
      "Удалено событий: 2826\n",
      "Количество пользователей, которые не попали в отфильтрованный лог: 17\n",
      "Доля удаленных данных: 0.01\n"
     ]
    }
   ],
   "source": [
    "df['date'] = df['date'].astype('datetime64[D]')\n",
    "df_new = df.loc[df['date'] > '2019-07-31']\n",
    "print('Количество событий в отфильтрованном логе:', len(df_new))\n",
    "print('Удалено событий:', ( len(df) - len(df_new)))\n",
    "print('Количество пользователей, которые не попали в отфильтрованный лог:', (df['id'].nunique() - df_new['id'].nunique()))\n",
    "print('Доля удаленных данных:', round(( len(df) - len(df_new)) / len(df),2))"
   ]
  },
  {
   "cell_type": "code",
   "execution_count": 15,
   "metadata": {},
   "outputs": [
    {
     "data": {
      "text/html": [
       "<div>\n",
       "<style scoped>\n",
       "    .dataframe tbody tr th:only-of-type {\n",
       "        vertical-align: middle;\n",
       "    }\n",
       "\n",
       "    .dataframe tbody tr th {\n",
       "        vertical-align: top;\n",
       "    }\n",
       "\n",
       "    .dataframe thead th {\n",
       "        text-align: right;\n",
       "    }\n",
       "</style>\n",
       "<table border=\"1\" class=\"dataframe\">\n",
       "  <thead>\n",
       "    <tr style=\"text-align: right;\">\n",
       "      <th></th>\n",
       "      <th>id</th>\n",
       "    </tr>\n",
       "    <tr>\n",
       "      <th>group</th>\n",
       "      <th></th>\n",
       "    </tr>\n",
       "  </thead>\n",
       "  <tbody>\n",
       "    <tr>\n",
       "      <th>246</th>\n",
       "      <td>2484</td>\n",
       "    </tr>\n",
       "    <tr>\n",
       "      <th>247</th>\n",
       "      <td>2513</td>\n",
       "    </tr>\n",
       "    <tr>\n",
       "      <th>248</th>\n",
       "      <td>2537</td>\n",
       "    </tr>\n",
       "  </tbody>\n",
       "</table>\n",
       "</div>"
      ],
      "text/plain": [
       "         id\n",
       "group      \n",
       "246    2484\n",
       "247    2513\n",
       "248    2537"
      ]
     },
     "execution_count": 15,
     "metadata": {},
     "output_type": "execute_result"
    }
   ],
   "source": [
    "#проверим из всех ли групп у нас остались пользователи\n",
    "df_new.groupby('group').agg({'id':'nunique'})"
   ]
  },
  {
   "cell_type": "markdown",
   "metadata": {},
   "source": [
    "**Вывод** Мы более подробно изучили лог с событиями, выявили, что предоставленные данные с 25 июля по 7 августа неполные, данные с 25 по 31 июля очень малы, поэтому мы их убрали из дальнейшего анализа. Также мы определели, что в среднем на одного пользователя приходиться 32 события"
   ]
  },
  {
   "cell_type": "markdown",
   "metadata": {},
   "source": [
    "<a id='step_3'></a>\n",
    "## Анализ воронки событий"
   ]
  },
  {
   "cell_type": "code",
   "execution_count": 16,
   "metadata": {},
   "outputs": [
    {
     "data": {
      "text/html": [
       "<style  type=\"text/css\" >\n",
       "#T_c52ad46b_2062_11ed_b4a4_707781b404e4row0_col0{\n",
       "            background-color:  #b40426;\n",
       "            color:  #f1f1f1;\n",
       "        }#T_c52ad46b_2062_11ed_b4a4_707781b404e4row1_col0{\n",
       "            background-color:  #bcd2f7;\n",
       "            color:  #000000;\n",
       "        }#T_c52ad46b_2062_11ed_b4a4_707781b404e4row2_col0{\n",
       "            background-color:  #b1cbfc;\n",
       "            color:  #000000;\n",
       "        }#T_c52ad46b_2062_11ed_b4a4_707781b404e4row3_col0{\n",
       "            background-color:  #98b9ff;\n",
       "            color:  #000000;\n",
       "        }#T_c52ad46b_2062_11ed_b4a4_707781b404e4row4_col0{\n",
       "            background-color:  #3b4cc0;\n",
       "            color:  #f1f1f1;\n",
       "        }</style><table id=\"T_c52ad46b_2062_11ed_b4a4_707781b404e4\" ><thead>    <tr>        <th class=\"blank level0\" ></th>        <th class=\"col_heading level0 col0\" >id</th>    </tr>    <tr>        <th class=\"index_name level0\" >event_name</th>        <th class=\"blank\" ></th>    </tr></thead><tbody>\n",
       "                <tr>\n",
       "                        <th id=\"T_c52ad46b_2062_11ed_b4a4_707781b404e4level0_row0\" class=\"row_heading level0 row0\" >MainScreenAppear</th>\n",
       "                        <td id=\"T_c52ad46b_2062_11ed_b4a4_707781b404e4row0_col0\" class=\"data row0 col0\" >117328</td>\n",
       "            </tr>\n",
       "            <tr>\n",
       "                        <th id=\"T_c52ad46b_2062_11ed_b4a4_707781b404e4level0_row1\" class=\"row_heading level0 row1\" >OffersScreenAppear</th>\n",
       "                        <td id=\"T_c52ad46b_2062_11ed_b4a4_707781b404e4row1_col0\" class=\"data row1 col0\" >46333</td>\n",
       "            </tr>\n",
       "            <tr>\n",
       "                        <th id=\"T_c52ad46b_2062_11ed_b4a4_707781b404e4level0_row2\" class=\"row_heading level0 row2\" >CartScreenAppear</th>\n",
       "                        <td id=\"T_c52ad46b_2062_11ed_b4a4_707781b404e4row2_col0\" class=\"data row2 col0\" >42303</td>\n",
       "            </tr>\n",
       "            <tr>\n",
       "                        <th id=\"T_c52ad46b_2062_11ed_b4a4_707781b404e4level0_row3\" class=\"row_heading level0 row3\" >PaymentScreenSuccessful</th>\n",
       "                        <td id=\"T_c52ad46b_2062_11ed_b4a4_707781b404e4row3_col0\" class=\"data row3 col0\" >33918</td>\n",
       "            </tr>\n",
       "            <tr>\n",
       "                        <th id=\"T_c52ad46b_2062_11ed_b4a4_707781b404e4level0_row4\" class=\"row_heading level0 row4\" >Tutorial</th>\n",
       "                        <td id=\"T_c52ad46b_2062_11ed_b4a4_707781b404e4row4_col0\" class=\"data row4 col0\" >1005</td>\n",
       "            </tr>\n",
       "    </tbody></table>"
      ],
      "text/plain": [
       "<pandas.io.formats.style.Styler at 0x24e868bf1c0>"
      ]
     },
     "execution_count": 16,
     "metadata": {},
     "output_type": "execute_result"
    }
   ],
   "source": [
    "#сводная таблица по частоте событий в логе\n",
    "df_new.groupby('event_name').agg({'id':'count'}).sort_values(by='id', ascending=False).style.background_gradient('coolwarm')"
   ]
  },
  {
   "cell_type": "code",
   "execution_count": 17,
   "metadata": {},
   "outputs": [
    {
     "data": {
      "text/html": [
       "<style  type=\"text/css\" >\n",
       "#T_c54906ad_2062_11ed_a9f2_707781b404e4row0_col0,#T_c54906ad_2062_11ed_a9f2_707781b404e4row0_col1{\n",
       "            background-color:  #b40426;\n",
       "            color:  #f1f1f1;\n",
       "        }#T_c54906ad_2062_11ed_a9f2_707781b404e4row1_col0{\n",
       "            background-color:  #edd1c2;\n",
       "            color:  #000000;\n",
       "        }#T_c54906ad_2062_11ed_a9f2_707781b404e4row1_col1{\n",
       "            background-color:  #eed0c0;\n",
       "            color:  #000000;\n",
       "        }#T_c54906ad_2062_11ed_a9f2_707781b404e4row2_col0{\n",
       "            background-color:  #ccd9ed;\n",
       "            color:  #000000;\n",
       "        }#T_c54906ad_2062_11ed_a9f2_707781b404e4row2_col1{\n",
       "            background-color:  #cedaeb;\n",
       "            color:  #000000;\n",
       "        }#T_c54906ad_2062_11ed_a9f2_707781b404e4row3_col0,#T_c54906ad_2062_11ed_a9f2_707781b404e4row3_col1{\n",
       "            background-color:  #c4d5f3;\n",
       "            color:  #000000;\n",
       "        }#T_c54906ad_2062_11ed_a9f2_707781b404e4row4_col0,#T_c54906ad_2062_11ed_a9f2_707781b404e4row4_col1{\n",
       "            background-color:  #3b4cc0;\n",
       "            color:  #f1f1f1;\n",
       "        }</style><table id=\"T_c54906ad_2062_11ed_a9f2_707781b404e4\" ><thead>    <tr>        <th class=\"blank level0\" ></th>        <th class=\"col_heading level0 col0\" >id</th>        <th class=\"col_heading level0 col1\" >%</th>    </tr>    <tr>        <th class=\"index_name level0\" >event_name</th>        <th class=\"blank\" ></th>        <th class=\"blank\" ></th>    </tr></thead><tbody>\n",
       "                <tr>\n",
       "                        <th id=\"T_c54906ad_2062_11ed_a9f2_707781b404e4level0_row0\" class=\"row_heading level0 row0\" >MainScreenAppear</th>\n",
       "                        <td id=\"T_c54906ad_2062_11ed_a9f2_707781b404e4row0_col0\" class=\"data row0 col0\" >7419</td>\n",
       "                        <td id=\"T_c54906ad_2062_11ed_a9f2_707781b404e4row0_col1\" class=\"data row0 col1\" >0.980000</td>\n",
       "            </tr>\n",
       "            <tr>\n",
       "                        <th id=\"T_c54906ad_2062_11ed_a9f2_707781b404e4level0_row1\" class=\"row_heading level0 row1\" >OffersScreenAppear</th>\n",
       "                        <td id=\"T_c54906ad_2062_11ed_a9f2_707781b404e4row1_col0\" class=\"data row1 col0\" >4593</td>\n",
       "                        <td id=\"T_c54906ad_2062_11ed_a9f2_707781b404e4row1_col1\" class=\"data row1 col1\" >0.610000</td>\n",
       "            </tr>\n",
       "            <tr>\n",
       "                        <th id=\"T_c54906ad_2062_11ed_a9f2_707781b404e4level0_row2\" class=\"row_heading level0 row2\" >CartScreenAppear</th>\n",
       "                        <td id=\"T_c54906ad_2062_11ed_a9f2_707781b404e4row2_col0\" class=\"data row2 col0\" >3734</td>\n",
       "                        <td id=\"T_c54906ad_2062_11ed_a9f2_707781b404e4row2_col1\" class=\"data row2 col1\" >0.500000</td>\n",
       "            </tr>\n",
       "            <tr>\n",
       "                        <th id=\"T_c54906ad_2062_11ed_a9f2_707781b404e4level0_row3\" class=\"row_heading level0 row3\" >PaymentScreenSuccessful</th>\n",
       "                        <td id=\"T_c54906ad_2062_11ed_a9f2_707781b404e4row3_col0\" class=\"data row3 col0\" >3539</td>\n",
       "                        <td id=\"T_c54906ad_2062_11ed_a9f2_707781b404e4row3_col1\" class=\"data row3 col1\" >0.470000</td>\n",
       "            </tr>\n",
       "            <tr>\n",
       "                        <th id=\"T_c54906ad_2062_11ed_a9f2_707781b404e4level0_row4\" class=\"row_heading level0 row4\" >Tutorial</th>\n",
       "                        <td id=\"T_c54906ad_2062_11ed_a9f2_707781b404e4row4_col0\" class=\"data row4 col0\" >840</td>\n",
       "                        <td id=\"T_c54906ad_2062_11ed_a9f2_707781b404e4row4_col1\" class=\"data row4 col1\" >0.110000</td>\n",
       "            </tr>\n",
       "    </tbody></table>"
      ],
      "text/plain": [
       "<pandas.io.formats.style.Styler at 0x24e8684fca0>"
      ]
     },
     "execution_count": 17,
     "metadata": {},
     "output_type": "execute_result"
    }
   ],
   "source": [
    "#сводная таблица по количеству пользователей совершавших определенное событие\n",
    "df_pivot = df_new.groupby('event_name').agg({'id':'nunique'}).sort_values(by='id', ascending=False)\n",
    "df_pivot['%'] = (df_pivot['id'] / df_new['id'].nunique()).round(2) #доля пользователей, которые хоть раз совершали данное событие\n",
    "df_pivot.style.background_gradient('coolwarm')"
   ]
  },
  {
   "cell_type": "markdown",
   "metadata": {},
   "source": [
    "Рассмотрев наименование, частоту совершенных действий в общем и по количеству пользователей, мы видим и можем предположить,что события происходят в следующей порядке: \n",
    "* MainScreenAppear -- Главный экран\n",
    "* OffersScreenAppear\t - Экран предложений/каталог\n",
    "* CartScreenAppear - Экран карты\n",
    "* PaymentScreenSuccessful  - Экран оплаты\n",
    "\n",
    "Событие **Tutorial** скорее всего относиться к какому то обучающему процессу/ как пользоваться приложением и т.д. Такой маленький процент задейстованных пользователей говорит о том, что либо большинство наших пользователей с нами давно, приложение они скачали давно и обучающую часть они прошли ранее, также возможно,что у этой части события есть кнопка \"Пропустить\", и многие пользователи ею пользуются.\n",
    "Также мы наблюдаем Отсутсвие конверсии на первом шаге воронки, это говорит нам о том, что либо не все данные предоставлены и какая-то часть потерялась, либо что пользователи каким то образом обходят первый путь и не попадают на главный экран "
   ]
  },
  {
   "cell_type": "code",
   "execution_count": 18,
   "metadata": {},
   "outputs": [
    {
     "data": {
      "text/html": [
       "<div>\n",
       "<style scoped>\n",
       "    .dataframe tbody tr th:only-of-type {\n",
       "        vertical-align: middle;\n",
       "    }\n",
       "\n",
       "    .dataframe tbody tr th {\n",
       "        vertical-align: top;\n",
       "    }\n",
       "\n",
       "    .dataframe thead th {\n",
       "        text-align: right;\n",
       "    }\n",
       "</style>\n",
       "<table border=\"1\" class=\"dataframe\">\n",
       "  <thead>\n",
       "    <tr style=\"text-align: right;\">\n",
       "      <th></th>\n",
       "      <th>id</th>\n",
       "      <th>conversion</th>\n",
       "      <th>id_step</th>\n",
       "      <th>conversion_step</th>\n",
       "    </tr>\n",
       "    <tr>\n",
       "      <th>event_name</th>\n",
       "      <th></th>\n",
       "      <th></th>\n",
       "      <th></th>\n",
       "      <th></th>\n",
       "    </tr>\n",
       "  </thead>\n",
       "  <tbody>\n",
       "    <tr>\n",
       "      <th>MainScreenAppear</th>\n",
       "      <td>7419</td>\n",
       "      <td>1.00</td>\n",
       "      <td>NaN</td>\n",
       "      <td>NaN</td>\n",
       "    </tr>\n",
       "    <tr>\n",
       "      <th>OffersScreenAppear</th>\n",
       "      <td>4593</td>\n",
       "      <td>0.62</td>\n",
       "      <td>7419.0</td>\n",
       "      <td>0.62</td>\n",
       "    </tr>\n",
       "    <tr>\n",
       "      <th>CartScreenAppear</th>\n",
       "      <td>3734</td>\n",
       "      <td>0.50</td>\n",
       "      <td>4593.0</td>\n",
       "      <td>0.81</td>\n",
       "    </tr>\n",
       "    <tr>\n",
       "      <th>PaymentScreenSuccessful</th>\n",
       "      <td>3539</td>\n",
       "      <td>0.48</td>\n",
       "      <td>3734.0</td>\n",
       "      <td>0.95</td>\n",
       "    </tr>\n",
       "  </tbody>\n",
       "</table>\n",
       "</div>"
      ],
      "text/plain": [
       "                           id  conversion  id_step  conversion_step\n",
       "event_name                                                         \n",
       "MainScreenAppear         7419        1.00      NaN              NaN\n",
       "OffersScreenAppear       4593        0.62   7419.0             0.62\n",
       "CartScreenAppear         3734        0.50   4593.0             0.81\n",
       "PaymentScreenSuccessful  3539        0.48   3734.0             0.95"
      ]
     },
     "metadata": {},
     "output_type": "display_data"
    },
    {
     "data": {
      "image/png": "[encoded data removed]",
      "text/plain": [
       "<Figure size 432x288 with 1 Axes>"
      ]
     },
     "metadata": {
      "needs_background": "light"
     },
     "output_type": "display_data"
    }
   ],
   "source": [
    "#построим воронку событий \n",
    "report = df_new.query('event_name != \"Tutorial\"').groupby('event_name').agg({'id':'nunique'}).sort_values(by='id',\n",
    "                                                                                                          ascending=False)\n",
    "report['conversion'] = (report['id'] / report['id'].values[0]).round(2)\n",
    "report['id_step'] = report['id'].shift()\n",
    "report['conversion_step'] = (report['id'] / report['id_step']).round(2)\n",
    "display(report)\n",
    "sns.barplot(x=report.index, y='conversion',data=report)\n",
    "plt.xticks(rotation=45)\n",
    "plt.xlabel('События')\n",
    "plt.ylabel('Конверсия')\n",
    "plt.title('Абсолютная конверсия пользователей по событиям')\n",
    "plt.show()\n"
   ]
  },
  {
   "cell_type": "markdown",
   "metadata": {},
   "source": [
    "По воронке мы видим, что большинство пользователей теряются между событиями Показ главного экрана - Экран каталога предложений,соответсвенно предполагаем что они открывают приложения, но не переходят на страницу с товарами и в дальнейшем не покупают товар. Рассматривая также конверсию по шагам, мы видим что большой показатель ( 82%) у покупателей, которые зашли в каталог и далее оформили заказ ( Перешли на страницу Карты), и всего 5% покупателей не дошли до окончательной покупки, такой маленький показатель врядли говорит о том, что существуют какие-либо проблемы с платежной системой. Вероятно это может быть связано с тем, что покупатель просто передумал покупать в последний момент. \n",
    "\n",
    "Стоит сделать акцент на большой потере пользователей между первым и вторым шагом, почему пользователь не проходит дальше главного экрана."
   ]
  },
  {
   "cell_type": "markdown",
   "metadata": {},
   "source": [
    "<a id='step_4'></a>\n",
    "## Анализ результатов эксперимента"
   ]
  },
  {
   "cell_type": "markdown",
   "metadata": {},
   "source": [
    "В эксперименте участвовали 3 группы\n",
    "246 и 247 — контрольные группы, а 248 — экспериментальная.\n",
    "Рассмотрим сколько пользователей в каждой группе:"
   ]
  },
  {
   "cell_type": "code",
   "execution_count": 19,
   "metadata": {},
   "outputs": [
    {
     "data": {
      "text/html": [
       "<div>\n",
       "<style scoped>\n",
       "    .dataframe tbody tr th:only-of-type {\n",
       "        vertical-align: middle;\n",
       "    }\n",
       "\n",
       "    .dataframe tbody tr th {\n",
       "        vertical-align: top;\n",
       "    }\n",
       "\n",
       "    .dataframe thead th {\n",
       "        text-align: right;\n",
       "    }\n",
       "</style>\n",
       "<table border=\"1\" class=\"dataframe\">\n",
       "  <thead>\n",
       "    <tr style=\"text-align: right;\">\n",
       "      <th></th>\n",
       "      <th>id</th>\n",
       "    </tr>\n",
       "    <tr>\n",
       "      <th>group</th>\n",
       "      <th></th>\n",
       "    </tr>\n",
       "  </thead>\n",
       "  <tbody>\n",
       "    <tr>\n",
       "      <th>246</th>\n",
       "      <td>2484</td>\n",
       "    </tr>\n",
       "    <tr>\n",
       "      <th>247</th>\n",
       "      <td>2513</td>\n",
       "    </tr>\n",
       "    <tr>\n",
       "      <th>248</th>\n",
       "      <td>2537</td>\n",
       "    </tr>\n",
       "  </tbody>\n",
       "</table>\n",
       "</div>"
      ],
      "text/plain": [
       "         id\n",
       "group      \n",
       "246    2484\n",
       "247    2513\n",
       "248    2537"
      ]
     },
     "execution_count": 19,
     "metadata": {},
     "output_type": "execute_result"
    }
   ],
   "source": [
    "df_new.groupby('group').agg({'id':'nunique'})"
   ]
  },
  {
   "cell_type": "code",
   "execution_count": 20,
   "metadata": {},
   "outputs": [
    {
     "data": {
      "text/html": [
       "<div>\n",
       "<style scoped>\n",
       "    .dataframe tbody tr th:only-of-type {\n",
       "        vertical-align: middle;\n",
       "    }\n",
       "\n",
       "    .dataframe tbody tr th {\n",
       "        vertical-align: top;\n",
       "    }\n",
       "\n",
       "    .dataframe thead tr th {\n",
       "        text-align: left;\n",
       "    }\n",
       "\n",
       "    .dataframe thead tr:last-of-type th {\n",
       "        text-align: right;\n",
       "    }\n",
       "</style>\n",
       "<table border=\"1\" class=\"dataframe\">\n",
       "  <thead>\n",
       "    <tr>\n",
       "      <th></th>\n",
       "      <th>id</th>\n",
       "    </tr>\n",
       "    <tr>\n",
       "      <th></th>\n",
       "      <th>nunique</th>\n",
       "    </tr>\n",
       "    <tr>\n",
       "      <th>group</th>\n",
       "      <th></th>\n",
       "    </tr>\n",
       "  </thead>\n",
       "  <tbody>\n",
       "    <tr>\n",
       "      <th>246</th>\n",
       "      <td>2484</td>\n",
       "    </tr>\n",
       "    <tr>\n",
       "      <th>247</th>\n",
       "      <td>2513</td>\n",
       "    </tr>\n",
       "    <tr>\n",
       "      <th>248</th>\n",
       "      <td>2537</td>\n",
       "    </tr>\n",
       "  </tbody>\n",
       "</table>\n",
       "</div>"
      ],
      "text/plain": [
       "           id\n",
       "      nunique\n",
       "group        \n",
       "246      2484\n",
       "247      2513\n",
       "248      2537"
      ]
     },
     "execution_count": 20,
     "metadata": {},
     "output_type": "execute_result"
    }
   ],
   "source": [
    "df_new.groupby(['group']).agg({'id': {'nunique'}}) #подсчет уникальных пользователей в группах"
   ]
  },
  {
   "cell_type": "code",
   "execution_count": 21,
   "metadata": {},
   "outputs": [],
   "source": [
    "#Разделим фрейм на группы\n",
    "group_246 = df_new.query('group == 246')\n",
    "group_247 = df_new.query('group == 247')\n",
    "group_248 = df_new.query('group == 248')"
   ]
  },
  {
   "cell_type": "code",
   "execution_count": 22,
   "metadata": {},
   "outputs": [
    {
     "name": "stdout",
     "output_type": "stream",
     "text": [
      "0\n",
      "0\n",
      "0\n"
     ]
    }
   ],
   "source": [
    "#проверим пересечения пользователей между группами\n",
    "print(len(np.intersect1d(group_246['id'], group_247['id'])))\n",
    "print(len(np.intersect1d(group_246['id'], group_248['id'])))\n",
    "print(len(np.intersect1d(group_247['id'], group_248['id'])))"
   ]
  },
  {
   "cell_type": "markdown",
   "metadata": {},
   "source": [
    "<a id='step_4_1'></a>\n",
    "### A/A тест"
   ]
  },
  {
   "cell_type": "markdown",
   "metadata": {},
   "source": [
    "Проведем А/А тест и проверим найдут ли статистические критерии разницу между контрольными группами 246 и 247"
   ]
  },
  {
   "cell_type": "code",
   "execution_count": 23,
   "metadata": {},
   "outputs": [],
   "source": [
    "#Функия для z-теста\n",
    "def check_hypothesis(successes1, successes2, trials1, trials2) :\n",
    "    p1 = successes1/trials1\n",
    "    p2 = successes2/trials2\n",
    "    p_combined = (successes1 + successes2) / (trials1 + trials2)\n",
    "    difference = p1 - p2\n",
    "    z_value = difference / math.sqrt(p_combined * (1-p_combined) * (1/trials1 + 1/trials2) )\n",
    "    distr = stats.norm (0, 1)\n",
    "    p_value = (1 - distr.cdf(abs(z_value))) * 2\n",
    "    return p_value"
   ]
  },
  {
   "cell_type": "code",
   "execution_count": 24,
   "metadata": {},
   "outputs": [
    {
     "data": {
      "text/html": [
       "<div>\n",
       "<style scoped>\n",
       "    .dataframe tbody tr th:only-of-type {\n",
       "        vertical-align: middle;\n",
       "    }\n",
       "\n",
       "    .dataframe tbody tr th {\n",
       "        vertical-align: top;\n",
       "    }\n",
       "\n",
       "    .dataframe thead th {\n",
       "        text-align: right;\n",
       "    }\n",
       "</style>\n",
       "<table border=\"1\" class=\"dataframe\">\n",
       "  <thead>\n",
       "    <tr style=\"text-align: right;\">\n",
       "      <th></th>\n",
       "      <th>id</th>\n",
       "    </tr>\n",
       "    <tr>\n",
       "      <th>group</th>\n",
       "      <th></th>\n",
       "    </tr>\n",
       "  </thead>\n",
       "  <tbody>\n",
       "    <tr>\n",
       "      <th>246</th>\n",
       "      <td>2484</td>\n",
       "    </tr>\n",
       "    <tr>\n",
       "      <th>247</th>\n",
       "      <td>2513</td>\n",
       "    </tr>\n",
       "    <tr>\n",
       "      <th>248</th>\n",
       "      <td>2537</td>\n",
       "    </tr>\n",
       "  </tbody>\n",
       "</table>\n",
       "</div>"
      ],
      "text/plain": [
       "         id\n",
       "group      \n",
       "246    2484\n",
       "247    2513\n",
       "248    2537"
      ]
     },
     "metadata": {},
     "output_type": "display_data"
    },
    {
     "data": {
      "text/html": [
       "<div>\n",
       "<style scoped>\n",
       "    .dataframe tbody tr th:only-of-type {\n",
       "        vertical-align: middle;\n",
       "    }\n",
       "\n",
       "    .dataframe tbody tr th {\n",
       "        vertical-align: top;\n",
       "    }\n",
       "\n",
       "    .dataframe thead th {\n",
       "        text-align: right;\n",
       "    }\n",
       "</style>\n",
       "<table border=\"1\" class=\"dataframe\">\n",
       "  <thead>\n",
       "    <tr style=\"text-align: right;\">\n",
       "      <th>group</th>\n",
       "      <th>246</th>\n",
       "      <th>247</th>\n",
       "      <th>248</th>\n",
       "    </tr>\n",
       "    <tr>\n",
       "      <th>event_name</th>\n",
       "      <th></th>\n",
       "      <th></th>\n",
       "      <th></th>\n",
       "    </tr>\n",
       "  </thead>\n",
       "  <tbody>\n",
       "    <tr>\n",
       "      <th>CartScreenAppear</th>\n",
       "      <td>1266</td>\n",
       "      <td>1238</td>\n",
       "      <td>1230</td>\n",
       "    </tr>\n",
       "    <tr>\n",
       "      <th>MainScreenAppear</th>\n",
       "      <td>2450</td>\n",
       "      <td>2476</td>\n",
       "      <td>2493</td>\n",
       "    </tr>\n",
       "    <tr>\n",
       "      <th>OffersScreenAppear</th>\n",
       "      <td>1542</td>\n",
       "      <td>1520</td>\n",
       "      <td>1531</td>\n",
       "    </tr>\n",
       "    <tr>\n",
       "      <th>PaymentScreenSuccessful</th>\n",
       "      <td>1200</td>\n",
       "      <td>1158</td>\n",
       "      <td>1181</td>\n",
       "    </tr>\n",
       "    <tr>\n",
       "      <th>Tutorial</th>\n",
       "      <td>278</td>\n",
       "      <td>283</td>\n",
       "      <td>279</td>\n",
       "    </tr>\n",
       "  </tbody>\n",
       "</table>\n",
       "</div>"
      ],
      "text/plain": [
       "group                     246   247   248\n",
       "event_name                               \n",
       "CartScreenAppear         1266  1238  1230\n",
       "MainScreenAppear         2450  2476  2493\n",
       "OffersScreenAppear       1542  1520  1531\n",
       "PaymentScreenSuccessful  1200  1158  1181\n",
       "Tutorial                  278   283   279"
      ]
     },
     "execution_count": 24,
     "metadata": {},
     "output_type": "execute_result"
    }
   ],
   "source": [
    "group = df_new.groupby('group').agg({'id':'nunique'})\n",
    "display(group)\n",
    "\n",
    "event_pivot = df_new.pivot_table(index='event_name', columns='group', values='id',aggfunc='nunique')\n",
    "event_pivot"
   ]
  },
  {
   "cell_type": "markdown",
   "metadata": {},
   "source": [
    "**H0: Между контрольными группами 246 и 247 нет отличий в доли пользователей, совершивших событие Х**\n",
    "\n",
    "**H1: Между контрольными группами 246 и 247 есть различия в доли пользователей, совершивших событие Х**"
   ]
  },
  {
   "cell_type": "code",
   "execution_count": 25,
   "metadata": {},
   "outputs": [
    {
     "name": "stdout",
     "output_type": "stream",
     "text": [
      "Отличие между группами 246 и 247 по событию CartScreenAppear статиcтически незначимо, p-value =  0.22883372237997213\n",
      "Отличие между группами 246 и 247 по событию MainScreenAppear статиcтически незначимо, p-value =  0.7570597232046099\n",
      "Отличие между группами 246 и 247 по событию OffersScreenAppear статиcтически незначимо, p-value =  0.2480954578522181\n",
      "Отличие между группами 246 и 247 по событию PaymentScreenSuccessful статиcтически незначимо, p-value =  0.11456679313141849\n"
     ]
    }
   ],
   "source": [
    "alpha = 0.01\n",
    "for event_name in ['CartScreenAppear','MainScreenAppear','OffersScreenAppear','PaymentScreenSuccessful']:\n",
    "    if check_hypothesis ( event_pivot.loc[event_name, 246], event_pivot.loc[event_name, 247],\n",
    "                        group.loc[246].values[0], group.loc[247].values[0]) < alpha:\n",
    "        trig ='значимо'\n",
    "    else:\n",
    "        trig = 'незначимо'\n",
    "    print(f'Отличие между группами 246 и 247 по событию {event_name} статиcтически {trig}, p-value = ',\n",
    "         check_hypothesis ( event_pivot.loc[event_name, 246], event_pivot.loc[event_name, 247],\n",
    "                        group.loc[246].values[0], group.loc[247].values[0]))\n",
    "    \n"
   ]
  },
  {
   "cell_type": "markdown",
   "metadata": {},
   "source": [
    "Проведенный А/А тест показал, что статистических различий между контрольными группами 246 и 247 нет"
   ]
  },
  {
   "cell_type": "markdown",
   "metadata": {},
   "source": [
    "<a id='step_4_2'></a>\n",
    "### A/A/B тест"
   ]
  },
  {
   "cell_type": "code",
   "execution_count": 26,
   "metadata": {},
   "outputs": [
    {
     "data": {
      "text/html": [
       "<div>\n",
       "<style scoped>\n",
       "    .dataframe tbody tr th:only-of-type {\n",
       "        vertical-align: middle;\n",
       "    }\n",
       "\n",
       "    .dataframe tbody tr th {\n",
       "        vertical-align: top;\n",
       "    }\n",
       "\n",
       "    .dataframe thead th {\n",
       "        text-align: right;\n",
       "    }\n",
       "</style>\n",
       "<table border=\"1\" class=\"dataframe\">\n",
       "  <thead>\n",
       "    <tr style=\"text-align: right;\">\n",
       "      <th></th>\n",
       "      <th>id</th>\n",
       "      <th>%</th>\n",
       "      <th>conversion</th>\n",
       "      <th>id_step</th>\n",
       "      <th>conversion_step</th>\n",
       "    </tr>\n",
       "    <tr>\n",
       "      <th>event_name</th>\n",
       "      <th></th>\n",
       "      <th></th>\n",
       "      <th></th>\n",
       "      <th></th>\n",
       "      <th></th>\n",
       "    </tr>\n",
       "  </thead>\n",
       "  <tbody>\n",
       "    <tr>\n",
       "      <th>MainScreenAppear</th>\n",
       "      <td>2450</td>\n",
       "      <td>0.99</td>\n",
       "      <td>1.00</td>\n",
       "      <td>NaN</td>\n",
       "      <td>NaN</td>\n",
       "    </tr>\n",
       "    <tr>\n",
       "      <th>OffersScreenAppear</th>\n",
       "      <td>1542</td>\n",
       "      <td>0.62</td>\n",
       "      <td>0.63</td>\n",
       "      <td>2450.0</td>\n",
       "      <td>0.63</td>\n",
       "    </tr>\n",
       "    <tr>\n",
       "      <th>CartScreenAppear</th>\n",
       "      <td>1266</td>\n",
       "      <td>0.51</td>\n",
       "      <td>0.52</td>\n",
       "      <td>1542.0</td>\n",
       "      <td>0.82</td>\n",
       "    </tr>\n",
       "    <tr>\n",
       "      <th>PaymentScreenSuccessful</th>\n",
       "      <td>1200</td>\n",
       "      <td>0.48</td>\n",
       "      <td>0.49</td>\n",
       "      <td>1266.0</td>\n",
       "      <td>0.95</td>\n",
       "    </tr>\n",
       "    <tr>\n",
       "      <th>Tutorial</th>\n",
       "      <td>278</td>\n",
       "      <td>0.11</td>\n",
       "      <td>0.11</td>\n",
       "      <td>1200.0</td>\n",
       "      <td>0.23</td>\n",
       "    </tr>\n",
       "  </tbody>\n",
       "</table>\n",
       "</div>"
      ],
      "text/plain": [
       "                           id     %  conversion  id_step  conversion_step\n",
       "event_name                                                               \n",
       "MainScreenAppear         2450  0.99        1.00      NaN              NaN\n",
       "OffersScreenAppear       1542  0.62        0.63   2450.0             0.63\n",
       "CartScreenAppear         1266  0.51        0.52   1542.0             0.82\n",
       "PaymentScreenSuccessful  1200  0.48        0.49   1266.0             0.95\n",
       "Tutorial                  278  0.11        0.11   1200.0             0.23"
      ]
     },
     "metadata": {},
     "output_type": "display_data"
    },
    {
     "data": {
      "image/png": "[encoded data removed]",
      "text/plain": [
       "<Figure size 432x288 with 1 Axes>"
      ]
     },
     "metadata": {
      "needs_background": "light"
     },
     "output_type": "display_data"
    }
   ],
   "source": [
    "#построим воронки событий по отдельным группам\n",
    "\n",
    "report = group_246.groupby('event_name').agg({'id':'nunique'}).sort_values(by='id',ascending=False)\n",
    "report['%'] = (report['id'] / group_246['id'].nunique()).round(2) #доля пользователей, которые хоть раз совершали данное событие\n",
    "report['conversion'] = (report['id'] / report['id'].values[0]).round(2)\n",
    "report['id_step'] = report['id'].shift()\n",
    "report['conversion_step'] = (report['id'] / report['id_step']).round(2)\n",
    "display(report)\n",
    "sns.barplot(x=report.index, y='conversion',data=report)\n",
    "plt.xticks(rotation=45)\n",
    "plt.xlabel('События')\n",
    "plt.ylabel('Конверсия')\n",
    "plt.title('Абсолютная конверсия пользователей по событиям группы 246')\n",
    "plt.show()"
   ]
  },
  {
   "cell_type": "code",
   "execution_count": 27,
   "metadata": {},
   "outputs": [
    {
     "data": {
      "text/html": [
       "<div>\n",
       "<style scoped>\n",
       "    .dataframe tbody tr th:only-of-type {\n",
       "        vertical-align: middle;\n",
       "    }\n",
       "\n",
       "    .dataframe tbody tr th {\n",
       "        vertical-align: top;\n",
       "    }\n",
       "\n",
       "    .dataframe thead th {\n",
       "        text-align: right;\n",
       "    }\n",
       "</style>\n",
       "<table border=\"1\" class=\"dataframe\">\n",
       "  <thead>\n",
       "    <tr style=\"text-align: right;\">\n",
       "      <th></th>\n",
       "      <th>id</th>\n",
       "      <th>%</th>\n",
       "      <th>conversion</th>\n",
       "      <th>id_step</th>\n",
       "      <th>conversion_step</th>\n",
       "    </tr>\n",
       "    <tr>\n",
       "      <th>event_name</th>\n",
       "      <th></th>\n",
       "      <th></th>\n",
       "      <th></th>\n",
       "      <th></th>\n",
       "      <th></th>\n",
       "    </tr>\n",
       "  </thead>\n",
       "  <tbody>\n",
       "    <tr>\n",
       "      <th>MainScreenAppear</th>\n",
       "      <td>2476</td>\n",
       "      <td>0.99</td>\n",
       "      <td>1.00</td>\n",
       "      <td>NaN</td>\n",
       "      <td>NaN</td>\n",
       "    </tr>\n",
       "    <tr>\n",
       "      <th>OffersScreenAppear</th>\n",
       "      <td>1520</td>\n",
       "      <td>0.60</td>\n",
       "      <td>0.61</td>\n",
       "      <td>2476.0</td>\n",
       "      <td>0.61</td>\n",
       "    </tr>\n",
       "    <tr>\n",
       "      <th>CartScreenAppear</th>\n",
       "      <td>1238</td>\n",
       "      <td>0.49</td>\n",
       "      <td>0.50</td>\n",
       "      <td>1520.0</td>\n",
       "      <td>0.81</td>\n",
       "    </tr>\n",
       "    <tr>\n",
       "      <th>PaymentScreenSuccessful</th>\n",
       "      <td>1158</td>\n",
       "      <td>0.46</td>\n",
       "      <td>0.47</td>\n",
       "      <td>1238.0</td>\n",
       "      <td>0.94</td>\n",
       "    </tr>\n",
       "    <tr>\n",
       "      <th>Tutorial</th>\n",
       "      <td>283</td>\n",
       "      <td>0.11</td>\n",
       "      <td>0.11</td>\n",
       "      <td>1158.0</td>\n",
       "      <td>0.24</td>\n",
       "    </tr>\n",
       "  </tbody>\n",
       "</table>\n",
       "</div>"
      ],
      "text/plain": [
       "                           id     %  conversion  id_step  conversion_step\n",
       "event_name                                                               \n",
       "MainScreenAppear         2476  0.99        1.00      NaN              NaN\n",
       "OffersScreenAppear       1520  0.60        0.61   2476.0             0.61\n",
       "CartScreenAppear         1238  0.49        0.50   1520.0             0.81\n",
       "PaymentScreenSuccessful  1158  0.46        0.47   1238.0             0.94\n",
       "Tutorial                  283  0.11        0.11   1158.0             0.24"
      ]
     },
     "metadata": {},
     "output_type": "display_data"
    },
    {
     "data": {
      "image/png": "[encoded data removed]",
      "text/plain": [
       "<Figure size 432x288 with 1 Axes>"
      ]
     },
     "metadata": {
      "needs_background": "light"
     },
     "output_type": "display_data"
    }
   ],
   "source": [
    "report = group_247.groupby('event_name').agg({'id':'nunique'}).sort_values(by='id',ascending=False)\n",
    "report['%'] = (report['id'] / group_247['id'].nunique()).round(2) #доля пользователей, которые хоть раз совершали данное событие\n",
    "report['conversion'] = (report['id'] / report['id'].values[0]).round(2)\n",
    "report['conversion'] = (report['id'] / report['id'].values[0]).round(2)\n",
    "report['id_step'] = report['id'].shift()\n",
    "report['conversion_step'] = (report['id'] / report['id_step']).round(2)\n",
    "display(report)\n",
    "sns.barplot(x=report.index, y='conversion',data=report)\n",
    "plt.xticks(rotation=45)\n",
    "plt.xlabel('События')\n",
    "plt.ylabel('Конверсия')\n",
    "plt.title('Абсолютная конверсия пользователей по событиям группы 247')\n",
    "plt.show()"
   ]
  },
  {
   "cell_type": "code",
   "execution_count": 28,
   "metadata": {},
   "outputs": [
    {
     "data": {
      "text/html": [
       "<div>\n",
       "<style scoped>\n",
       "    .dataframe tbody tr th:only-of-type {\n",
       "        vertical-align: middle;\n",
       "    }\n",
       "\n",
       "    .dataframe tbody tr th {\n",
       "        vertical-align: top;\n",
       "    }\n",
       "\n",
       "    .dataframe thead th {\n",
       "        text-align: right;\n",
       "    }\n",
       "</style>\n",
       "<table border=\"1\" class=\"dataframe\">\n",
       "  <thead>\n",
       "    <tr style=\"text-align: right;\">\n",
       "      <th></th>\n",
       "      <th>id</th>\n",
       "      <th>%</th>\n",
       "      <th>conversion</th>\n",
       "      <th>id_step</th>\n",
       "      <th>conversion_step</th>\n",
       "    </tr>\n",
       "    <tr>\n",
       "      <th>event_name</th>\n",
       "      <th></th>\n",
       "      <th></th>\n",
       "      <th></th>\n",
       "      <th></th>\n",
       "      <th></th>\n",
       "    </tr>\n",
       "  </thead>\n",
       "  <tbody>\n",
       "    <tr>\n",
       "      <th>MainScreenAppear</th>\n",
       "      <td>2493</td>\n",
       "      <td>0.98</td>\n",
       "      <td>1.00</td>\n",
       "      <td>NaN</td>\n",
       "      <td>NaN</td>\n",
       "    </tr>\n",
       "    <tr>\n",
       "      <th>OffersScreenAppear</th>\n",
       "      <td>1531</td>\n",
       "      <td>0.60</td>\n",
       "      <td>0.61</td>\n",
       "      <td>2493.0</td>\n",
       "      <td>0.61</td>\n",
       "    </tr>\n",
       "    <tr>\n",
       "      <th>CartScreenAppear</th>\n",
       "      <td>1230</td>\n",
       "      <td>0.48</td>\n",
       "      <td>0.49</td>\n",
       "      <td>1531.0</td>\n",
       "      <td>0.80</td>\n",
       "    </tr>\n",
       "    <tr>\n",
       "      <th>PaymentScreenSuccessful</th>\n",
       "      <td>1181</td>\n",
       "      <td>0.47</td>\n",
       "      <td>0.47</td>\n",
       "      <td>1230.0</td>\n",
       "      <td>0.96</td>\n",
       "    </tr>\n",
       "    <tr>\n",
       "      <th>Tutorial</th>\n",
       "      <td>279</td>\n",
       "      <td>0.11</td>\n",
       "      <td>0.11</td>\n",
       "      <td>1181.0</td>\n",
       "      <td>0.24</td>\n",
       "    </tr>\n",
       "  </tbody>\n",
       "</table>\n",
       "</div>"
      ],
      "text/plain": [
       "                           id     %  conversion  id_step  conversion_step\n",
       "event_name                                                               \n",
       "MainScreenAppear         2493  0.98        1.00      NaN              NaN\n",
       "OffersScreenAppear       1531  0.60        0.61   2493.0             0.61\n",
       "CartScreenAppear         1230  0.48        0.49   1531.0             0.80\n",
       "PaymentScreenSuccessful  1181  0.47        0.47   1230.0             0.96\n",
       "Tutorial                  279  0.11        0.11   1181.0             0.24"
      ]
     },
     "metadata": {},
     "output_type": "display_data"
    },
    {
     "data": {
      "image/png": "[encoded data removed]",
      "text/plain": [
       "<Figure size 432x288 with 1 Axes>"
      ]
     },
     "metadata": {
      "needs_background": "light"
     },
     "output_type": "display_data"
    }
   ],
   "source": [
    "report = group_248.groupby('event_name').agg({'id':'nunique'}).sort_values(by='id',ascending=False)\n",
    "report['%'] = (report['id'] / group_248['id'].nunique()).round(2) #доля пользователей, которые хоть раз совершали данное событие\n",
    "report['conversion'] = (report['id'] / report['id'].values[0]).round(2)\n",
    "report['conversion'] = (report['id'] / report['id'].values[0]).round(2)\n",
    "report['id_step'] = report['id'].shift()\n",
    "report['conversion_step'] = (report['id'] / report['id_step']).round(2)\n",
    "display(report)\n",
    "sns.barplot(x=report.index, y='conversion',data=report)\n",
    "plt.xticks(rotation=45)\n",
    "plt.xlabel('События')\n",
    "plt.ylabel('Конверсия')\n",
    "plt.title('Абсолютная конверсия пользователей по событиям группы 248')\n",
    "plt.show()"
   ]
  },
  {
   "cell_type": "markdown",
   "metadata": {},
   "source": [
    "**H0: Изменение дизайна не повлияло на конверсию и между группами нет отличий в доли пользователей, совершивших событие Х**\n",
    "\n",
    "**H1: Изменение дизайна повлияло на коверсию,есть различия в доли пользователей, совершивших событие Х**"
   ]
  },
  {
   "cell_type": "code",
   "execution_count": 29,
   "metadata": {},
   "outputs": [
    {
     "name": "stdout",
     "output_type": "stream",
     "text": [
      "Отличие между группами 246 и 248 по событию CartScreenAppear статиcтически незначимо, p-value =  0.07842923237520116\n",
      "Отличие между группами 246 и 248 по событию MainScreenAppear статиcтически незначимо, p-value =  0.2949721933554552\n",
      "Отличие между группами 246 и 248 по событию OffersScreenAppear статиcтически незначимо, p-value =  0.20836205402738917\n",
      "Отличие между группами 246 и 248 по событию PaymentScreenSuccessful статиcтически незначимо, p-value =  0.2122553275697796\n"
     ]
    }
   ],
   "source": [
    "#Сделаем z-тест контрольных групп и эксперементальной\n",
    "alpha = 0.05\n",
    "for event_name in ['CartScreenAppear','MainScreenAppear','OffersScreenAppear','PaymentScreenSuccessful']:\n",
    "    if check_hypothesis ( event_pivot.loc[event_name, 246], event_pivot.loc[event_name, 248],\n",
    "                        group.loc[246].values[0], group.loc[248].values[0]) < alpha:\n",
    "        trig ='значимо'\n",
    "    else:\n",
    "        trig = 'незначимо'\n",
    "    print(f'Отличие между группами 246 и 248 по событию {event_name} статиcтически {trig}, p-value = ',\n",
    "         check_hypothesis ( event_pivot.loc[event_name, 246], event_pivot.loc[event_name, 248],\n",
    "                        group.loc[246].values[0], group.loc[248].values[0]))"
   ]
  },
  {
   "cell_type": "code",
   "execution_count": 30,
   "metadata": {},
   "outputs": [
    {
     "name": "stdout",
     "output_type": "stream",
     "text": [
      "Отличие между группами 247 и 248 по событию CartScreenAppear статиcтически незначимо, p-value =  0.5786197879539783\n",
      "Отличие между группами 247 и 248 по событию MainScreenAppear статиcтически незначимо, p-value =  0.4587053616621515\n",
      "Отличие между группами 247 и 248 по событию OffersScreenAppear статиcтически незначимо, p-value =  0.9197817830592261\n",
      "Отличие между группами 247 и 248 по событию PaymentScreenSuccessful статиcтически незначимо, p-value =  0.7373415053803964\n"
     ]
    }
   ],
   "source": [
    "for event_name in ['CartScreenAppear','MainScreenAppear','OffersScreenAppear','PaymentScreenSuccessful']:\n",
    "    if check_hypothesis ( event_pivot.loc[event_name, 247], event_pivot.loc[event_name, 248],\n",
    "                        group.loc[247].values[0], group.loc[248].values[0]) < alpha:\n",
    "        trig ='значимо'\n",
    "    else:\n",
    "        trig = 'незначимо'\n",
    "    print(f'Отличие между группами 247 и 248 по событию {event_name} статиcтически {trig}, p-value = ',\n",
    "         check_hypothesis ( event_pivot.loc[event_name, 247], event_pivot.loc[event_name, 248],\n",
    "                        group.loc[247].values[0], group.loc[248].values[0]))"
   ]
  },
  {
   "cell_type": "code",
   "execution_count": 31,
   "metadata": {},
   "outputs": [
    {
     "data": {
      "text/html": [
       "<div>\n",
       "<style scoped>\n",
       "    .dataframe tbody tr th:only-of-type {\n",
       "        vertical-align: middle;\n",
       "    }\n",
       "\n",
       "    .dataframe tbody tr th {\n",
       "        vertical-align: top;\n",
       "    }\n",
       "\n",
       "    .dataframe thead th {\n",
       "        text-align: right;\n",
       "    }\n",
       "</style>\n",
       "<table border=\"1\" class=\"dataframe\">\n",
       "  <thead>\n",
       "    <tr style=\"text-align: right;\">\n",
       "      <th></th>\n",
       "      <th>id</th>\n",
       "    </tr>\n",
       "    <tr>\n",
       "      <th>group</th>\n",
       "      <th></th>\n",
       "    </tr>\n",
       "  </thead>\n",
       "  <tbody>\n",
       "    <tr>\n",
       "      <th>246</th>\n",
       "      <td>2484</td>\n",
       "    </tr>\n",
       "    <tr>\n",
       "      <th>247</th>\n",
       "      <td>2513</td>\n",
       "    </tr>\n",
       "    <tr>\n",
       "      <th>248</th>\n",
       "      <td>2537</td>\n",
       "    </tr>\n",
       "    <tr>\n",
       "      <th>246 + 247</th>\n",
       "      <td>4997</td>\n",
       "    </tr>\n",
       "  </tbody>\n",
       "</table>\n",
       "</div>"
      ],
      "text/plain": [
       "             id\n",
       "group          \n",
       "246        2484\n",
       "247        2513\n",
       "248        2537\n",
       "246 + 247  4997"
      ]
     },
     "metadata": {},
     "output_type": "display_data"
    },
    {
     "data": {
      "text/html": [
       "<div>\n",
       "<style scoped>\n",
       "    .dataframe tbody tr th:only-of-type {\n",
       "        vertical-align: middle;\n",
       "    }\n",
       "\n",
       "    .dataframe tbody tr th {\n",
       "        vertical-align: top;\n",
       "    }\n",
       "\n",
       "    .dataframe thead th {\n",
       "        text-align: right;\n",
       "    }\n",
       "</style>\n",
       "<table border=\"1\" class=\"dataframe\">\n",
       "  <thead>\n",
       "    <tr style=\"text-align: right;\">\n",
       "      <th>group</th>\n",
       "      <th>246</th>\n",
       "      <th>247</th>\n",
       "      <th>248</th>\n",
       "      <th>246 + 247</th>\n",
       "    </tr>\n",
       "    <tr>\n",
       "      <th>event_name</th>\n",
       "      <th></th>\n",
       "      <th></th>\n",
       "      <th></th>\n",
       "      <th></th>\n",
       "    </tr>\n",
       "  </thead>\n",
       "  <tbody>\n",
       "    <tr>\n",
       "      <th>CartScreenAppear</th>\n",
       "      <td>1266</td>\n",
       "      <td>1238</td>\n",
       "      <td>1230</td>\n",
       "      <td>2504</td>\n",
       "    </tr>\n",
       "    <tr>\n",
       "      <th>MainScreenAppear</th>\n",
       "      <td>2450</td>\n",
       "      <td>2476</td>\n",
       "      <td>2493</td>\n",
       "      <td>4926</td>\n",
       "    </tr>\n",
       "    <tr>\n",
       "      <th>OffersScreenAppear</th>\n",
       "      <td>1542</td>\n",
       "      <td>1520</td>\n",
       "      <td>1531</td>\n",
       "      <td>3062</td>\n",
       "    </tr>\n",
       "    <tr>\n",
       "      <th>PaymentScreenSuccessful</th>\n",
       "      <td>1200</td>\n",
       "      <td>1158</td>\n",
       "      <td>1181</td>\n",
       "      <td>2358</td>\n",
       "    </tr>\n",
       "    <tr>\n",
       "      <th>Tutorial</th>\n",
       "      <td>278</td>\n",
       "      <td>283</td>\n",
       "      <td>279</td>\n",
       "      <td>561</td>\n",
       "    </tr>\n",
       "  </tbody>\n",
       "</table>\n",
       "</div>"
      ],
      "text/plain": [
       "group                     246   247   248  246 + 247\n",
       "event_name                                          \n",
       "CartScreenAppear         1266  1238  1230       2504\n",
       "MainScreenAppear         2450  2476  2493       4926\n",
       "OffersScreenAppear       1542  1520  1531       3062\n",
       "PaymentScreenSuccessful  1200  1158  1181       2358\n",
       "Tutorial                  278   283   279        561"
      ]
     },
     "execution_count": 31,
     "metadata": {},
     "output_type": "execute_result"
    }
   ],
   "source": [
    "#сравним эксперементальную группу с объедененной 246 и 247 группами\n",
    "#формируем объединенную группу\n",
    "comb = df_new.query('group in [246,247]')\n",
    "comb['group'] = '246 + 247'\n",
    "#соединяем с основной таблицей\n",
    "df_comb = df_new.append(comb)\n",
    "#воронка\n",
    "group_new = df_comb.groupby('group').agg({'id':'nunique'})\n",
    "display(group_new)\n",
    "\n",
    "event_pivot_new = df_comb.pivot_table(index='event_name', columns='group', values='id',aggfunc='nunique')\n",
    "event_pivot_new"
   ]
  },
  {
   "cell_type": "code",
   "execution_count": 32,
   "metadata": {},
   "outputs": [
    {
     "name": "stdout",
     "output_type": "stream",
     "text": [
      "Отличие между группами 246+247 и 248 по событию CartScreenAppear статиcтически незначимо, p-value =  0.18175875284404386\n",
      "Отличие между группами 246+247 и 248 по событию MainScreenAppear статиcтически незначимо, p-value =  0.29424526837179577\n",
      "Отличие между группами 246+247 и 248 по событию OffersScreenAppear статиcтически незначимо, p-value =  0.43425549655188256\n",
      "Отличие между группами 246+247 и 248 по событию PaymentScreenSuccessful статиcтически незначимо, p-value =  0.6004294282308704\n"
     ]
    }
   ],
   "source": [
    "for event_name in ['CartScreenAppear','MainScreenAppear','OffersScreenAppear','PaymentScreenSuccessful']:\n",
    "    if check_hypothesis ( event_pivot_new.loc[event_name, '246 + 247'], event_pivot.loc[event_name, 248],\n",
    "                        group_new.loc['246 + 247'].values[0], group.loc[248].values[0]) < alpha:\n",
    "        trig ='значимо'\n",
    "    else:\n",
    "        trig = 'незначимо'\n",
    "    print(f'Отличие между группами 246+247 и 248 по событию {event_name} статиcтически {trig}, p-value = ',\n",
    "         check_hypothesis (event_pivot_new.loc[event_name, '246 + 247'], event_pivot.loc[event_name, 248],\n",
    "                        group_new.loc['246 + 247'].values[0], group.loc[248].values[0]))\n"
   ]
  },
  {
   "cell_type": "markdown",
   "metadata": {},
   "source": [
    "**Вывод** Результаты А/В теста показали, что никаких различий между контрольными и экперементальной группы не найдено. Мы провели 16 анализов, 4 А/А теста при уровне значимости 0,01% и  12 А/В тестов при уровне значимости 0,05%. За счет большого количества тестов, вероятность ошибки первого рода увеличивается, для более точного результата необходимо сделать поправку Бонферрони и проверить данные заново."
   ]
  },
  {
   "cell_type": "markdown",
   "metadata": {},
   "source": [
    "<a id='step_4_3'></a>\n",
    "### Поправка Бонферрони "
   ]
  },
  {
   "cell_type": "code",
   "execution_count": 33,
   "metadata": {},
   "outputs": [
    {
     "name": "stdout",
     "output_type": "stream",
     "text": [
      "Отличие между группами 246 и 247 по событию CartScreenAppear статиcтически незначимо, p-value =  0.22883372237997213\n",
      "Отличие между группами 246 и 247 по событию MainScreenAppear статиcтически незначимо, p-value =  0.7570597232046099\n",
      "Отличие между группами 246 и 247 по событию OffersScreenAppear статиcтически незначимо, p-value =  0.2480954578522181\n",
      "Отличие между группами 246 и 247 по событию PaymentScreenSuccessful статиcтически незначимо, p-value =  0.11456679313141849\n",
      "Отличие между группами 246 и 248 по событию CartScreenAppear статиcтически незначимо, p-value =  0.07842923237520116\n",
      "Отличие между группами 246 и 248 по событию MainScreenAppear статиcтически незначимо, p-value =  0.2949721933554552\n",
      "Отличие между группами 246 и 248 по событию OffersScreenAppear статиcтически незначимо, p-value =  0.20836205402738917\n",
      "Отличие между группами 246 и 248 по событию PaymentScreenSuccessful статиcтически незначимо, p-value =  0.2122553275697796\n",
      "Отличие между группами 247 и 248 по событию CartScreenAppear статиcтически незначимо, p-value =  0.5786197879539783\n",
      "Отличие между группами 247 и 248 по событию MainScreenAppear статиcтически незначимо, p-value =  0.4587053616621515\n",
      "Отличие между группами 247 и 248 по событию OffersScreenAppear статиcтически незначимо, p-value =  0.9197817830592261\n",
      "Отличие между группами 247 и 248 по событию PaymentScreenSuccessful статиcтически незначимо, p-value =  0.7373415053803964\n",
      "Отличие между группами 246+247 и 248 по событию CartScreenAppear статиcтически незначимо, p-value =  0.18175875284404386\n",
      "Отличие между группами 246+247 и 248 по событию MainScreenAppear статиcтически незначимо, p-value =  0.29424526837179577\n",
      "Отличие между группами 246+247 и 248 по событию OffersScreenAppear статиcтически незначимо, p-value =  0.43425549655188256\n",
      "Отличие между группами 246+247 и 248 по событию PaymentScreenSuccessful статиcтически незначимо, p-value =  0.6004294282308704\n"
     ]
    }
   ],
   "source": [
    "\n",
    "#проводим А/А тест\n",
    "alpha = 0.01\n",
    "bonferroni_alpha = alpha / 16  # произведено шестнадцать сравнений\n",
    "for event_name in ['CartScreenAppear','MainScreenAppear','OffersScreenAppear','PaymentScreenSuccessful']:\n",
    "    if check_hypothesis ( event_pivot.loc[event_name, 246], event_pivot.loc[event_name, 247],\n",
    "                        group.loc[246].values[0], group.loc[247].values[0]) < bonferroni_alpha:\n",
    "        trig ='значимо'\n",
    "    else:\n",
    "        trig = 'незначимо'\n",
    "    print(f'Отличие между группами 246 и 247 по событию {event_name} статиcтически {trig}, p-value = ',\n",
    "         check_hypothesis ( event_pivot.loc[event_name, 246], event_pivot.loc[event_name, 247],\n",
    "                        group.loc[246].values[0], group.loc[247].values[0]))\n",
    "    \n",
    "#Сделаем z-тест контрольных групп и эксперементальной\n",
    "alpha = 0.05\n",
    "bonferroni_alpha = alpha / 16  # произведено шестнадцать сравнений\n",
    "#246 и 248 сравнение\n",
    "for event_name in ['CartScreenAppear','MainScreenAppear','OffersScreenAppear','PaymentScreenSuccessful']:\n",
    "    if check_hypothesis ( event_pivot.loc[event_name, 246], event_pivot.loc[event_name, 248],\n",
    "                        group.loc[246].values[0], group.loc[248].values[0]) < alpha:\n",
    "        trig ='значимо'\n",
    "    else:\n",
    "        trig = 'незначимо'\n",
    "    print(f'Отличие между группами 246 и 248 по событию {event_name} статиcтически {trig}, p-value = ',\n",
    "         check_hypothesis ( event_pivot.loc[event_name, 246], event_pivot.loc[event_name, 248],\n",
    "                        group.loc[246].values[0], group.loc[248].values[0]))\n",
    "#247 и 248 сравнение \n",
    "for event_name in ['CartScreenAppear','MainScreenAppear','OffersScreenAppear','PaymentScreenSuccessful']:\n",
    "    if check_hypothesis ( event_pivot.loc[event_name, 247], event_pivot.loc[event_name, 248],\n",
    "                        group.loc[247].values[0], group.loc[248].values[0]) < alpha:\n",
    "        trig ='значимо'\n",
    "    else:\n",
    "        trig = 'незначимо'\n",
    "    print(f'Отличие между группами 247 и 248 по событию {event_name} статиcтически {trig}, p-value = ',\n",
    "         check_hypothesis ( event_pivot.loc[event_name, 247], event_pivot.loc[event_name, 248],\n",
    "                        group.loc[247].values[0], group.loc[248].values[0]))\n",
    "#246+247 и 248 сравнение    \n",
    "for event_name in ['CartScreenAppear','MainScreenAppear','OffersScreenAppear','PaymentScreenSuccessful']:\n",
    "    if check_hypothesis ( event_pivot_new.loc[event_name, '246 + 247'], event_pivot.loc[event_name, 248],\n",
    "                        group_new.loc['246 + 247'].values[0], group.loc[248].values[0]) < alpha:\n",
    "        trig ='значимо'\n",
    "    else:\n",
    "        trig = 'незначимо'\n",
    "    print(f'Отличие между группами 246+247 и 248 по событию {event_name} статиcтически {trig}, p-value = ',\n",
    "         check_hypothesis (event_pivot_new.loc[event_name, '246 + 247'], event_pivot.loc[event_name, 248],\n",
    "                        group_new.loc['246 + 247'].values[0], group.loc[248].values[0]))"
   ]
  },
  {
   "cell_type": "markdown",
   "metadata": {},
   "source": [
    "**Вывод** Поправка Бенферрони ситуацию не изменила, никаких различий между группами нет."
   ]
  },
  {
   "cell_type": "markdown",
   "metadata": {},
   "source": [
    "<a id='step_5'></a>\n",
    "## Вывод"
   ]
  },
  {
   "cell_type": "markdown",
   "metadata": {},
   "source": [
    "В процессе предобработке данных в логе было обнаружено 413 явных дубликатов, так как каждая запись сопровождается временем, вплоть до секунд, совершить два действия за одну секунду не представлавляется возможным, также это могло произойти так как,данные доходили и сохранялись некорректно. В любом случае оба эти фактора ставят под сомнения эти данные, поэтому они были удалены. Столбец с информацией по времени, был переведен в тип datetime, так как показывал время в секундах, также для удобства работы мы вывили дату в отдельный столбец.\n",
    "\n",
    "Изучив данные, мы определили, что в логе находятся результаты событий с 25 июля 2019 года по 7 августа 2019 года, это составляет ровно 14 дней, т.е. 2 недели. Рассмотрев, как распределяются события по времени увидели, что данные первой недели( с 25 по 31 июля) не полные, вероятно в эту неделю была настройка проведения теста и не все данные записывались корректно, этот момент необходимо уточнить у разработчиков.  \n",
    "\n",
    "Рассмотрев наименование событий, частоту совершенных действий в общем и по количеству пользователей, мы видим и можем предположить,что события происходят в следующей порядке: \n",
    "* MainScreenAppear -- Главный экран\n",
    "* OffersScreenAppear\t - Экран предложений/каталог\n",
    "* CartScreenAppear - Экран карты\n",
    "* PaymentScreenSuccessful  - Экран оплаты\n",
    "\n",
    "Событие **Tutorial** скорее всего относиться к какому то обучающему процессу/ как пользоваться приложением и т.д. Это событие имеет очень маленький процент частоты(всего 11% пользователей). Такой маленький процент задейстованных пользователей говорит о том, что либо большинство наших пользователей с нами давно, приложение они скачали давно и обучающую часть они прошли ранее, также возможно,что у этой части события есть кнопка \"Пропустить\", и многие пользователи ею пользуются.\n",
    "\n",
    "В среднем на одного пользователя приходиться 32 события, этот показатель достаточно высокий. Предположив, что пользователь за раз перемещался несколько с главного экрана на экран каталога, и только после проводил оплату, 32 события врядли наберется. Поэтому можно предположить, что пользователи в течении недели делают по несколько заказов. Что означает, что они снова и снова возвращаются к нам в приложение.\n",
    "\n",
    "Анализ воронки событий показал, что наиболее популярное событие - это показ главного экрана, и что самое важное большая часть покупателей отваливается между первым и вторым шагом ( Главный экран - Экран каталога), на этом шаге мы теряем 38% пользователей. Абсолютная конверсия до шага с оплатой составляет 48%, это хороший показатель, такая разница говорит нам о том, что почти все пользователи, которые дошли до каталога - оплачивают заказ.\n",
    "\n",
    "Проанализировав результаты контрольных и эксперементальных групп, мы выявили что различий в воронке конверсий в группах не было найдено, все группы показывали примерно одинаковый результат. Из чего следует, что внедрение нового шрифта в мобильное приложение не ухудшило, но и не улучшило ситуацию. Необходимо более тщательно рассмотреть причину, потери покупателей между переходом с главного экрана на экран предложений."
   ]
  }
 ],
 "metadata": {
  "ExecuteTimeLog": [
   {
    "duration": 1961,
    "start_time": "2022-03-25T17:35:08.243Z"
   },
   {
    "duration": 330,
    "start_time": "2022-03-25T17:35:35.504Z"
   },
   {
    "duration": 163,
    "start_time": "2022-03-25T17:36:45.090Z"
   },
   {
    "duration": 169,
    "start_time": "2022-03-25T17:36:55.325Z"
   },
   {
    "duration": 332,
    "start_time": "2022-03-25T17:40:12.145Z"
   },
   {
    "duration": 169,
    "start_time": "2022-03-25T17:40:37.918Z"
   },
   {
    "duration": 179,
    "start_time": "2022-03-25T17:40:46.363Z"
   },
   {
    "duration": 174,
    "start_time": "2022-03-25T17:46:31.201Z"
   },
   {
    "duration": 172,
    "start_time": "2022-03-25T17:47:44.675Z"
   },
   {
    "duration": 22,
    "start_time": "2022-03-25T17:55:15.777Z"
   },
   {
    "duration": 67,
    "start_time": "2022-03-25T17:58:10.341Z"
   },
   {
    "duration": 134,
    "start_time": "2022-03-25T18:00:22.394Z"
   },
   {
    "duration": 9,
    "start_time": "2022-03-25T18:01:11.681Z"
   },
   {
    "duration": 6,
    "start_time": "2022-03-25T18:08:03.430Z"
   },
   {
    "duration": 8,
    "start_time": "2022-03-25T18:08:19.327Z"
   },
   {
    "duration": 8,
    "start_time": "2022-03-25T18:08:30.595Z"
   },
   {
    "duration": 8,
    "start_time": "2022-03-25T18:09:05.716Z"
   },
   {
    "duration": 20,
    "start_time": "2022-03-25T18:11:42.752Z"
   },
   {
    "duration": 90,
    "start_time": "2022-03-25T18:12:42.651Z"
   },
   {
    "duration": 79,
    "start_time": "2022-03-25T18:12:48.707Z"
   },
   {
    "duration": 120,
    "start_time": "2022-03-25T18:32:13.516Z"
   },
   {
    "duration": 27,
    "start_time": "2022-03-25T18:32:16.979Z"
   },
   {
    "duration": 9,
    "start_time": "2022-03-25T18:32:41.440Z"
   },
   {
    "duration": 217,
    "start_time": "2022-03-25T18:34:32.968Z"
   },
   {
    "duration": 4,
    "start_time": "2022-03-25T18:34:35.953Z"
   },
   {
    "duration": 8,
    "start_time": "2022-03-25T18:41:24.203Z"
   },
   {
    "duration": 12,
    "start_time": "2022-03-25T18:41:48.969Z"
   },
   {
    "duration": 12,
    "start_time": "2022-03-25T18:44:32.610Z"
   },
   {
    "duration": 8,
    "start_time": "2022-03-25T18:44:43.001Z"
   },
   {
    "duration": 13,
    "start_time": "2022-03-25T18:44:54.316Z"
   },
   {
    "duration": 10,
    "start_time": "2022-03-25T18:45:02.725Z"
   },
   {
    "duration": 14,
    "start_time": "2022-03-25T18:46:26.567Z"
   },
   {
    "duration": 8,
    "start_time": "2022-03-25T18:46:48.155Z"
   },
   {
    "duration": 9,
    "start_time": "2022-03-25T18:47:06.248Z"
   },
   {
    "duration": 10,
    "start_time": "2022-03-25T19:01:23.222Z"
   },
   {
    "duration": 53,
    "start_time": "2022-03-25T19:01:35.001Z"
   },
   {
    "duration": 36,
    "start_time": "2022-03-25T19:01:47.341Z"
   },
   {
    "duration": 91,
    "start_time": "2022-03-25T19:03:43.791Z"
   },
   {
    "duration": 70,
    "start_time": "2022-03-25T19:10:32.550Z"
   },
   {
    "duration": 13,
    "start_time": "2022-03-25T19:10:37.743Z"
   },
   {
    "duration": 10,
    "start_time": "2022-03-25T19:10:52.894Z"
   },
   {
    "duration": 44,
    "start_time": "2022-03-25T19:11:07.271Z"
   },
   {
    "duration": 52,
    "start_time": "2022-03-25T19:12:00.217Z"
   },
   {
    "duration": 2696,
    "start_time": "2022-03-25T19:12:12.297Z"
   },
   {
    "duration": 55,
    "start_time": "2022-03-25T19:12:25.612Z"
   },
   {
    "duration": 43,
    "start_time": "2022-03-25T19:12:33.056Z"
   },
   {
    "duration": 4,
    "start_time": "2022-03-25T19:12:35.673Z"
   },
   {
    "duration": 42,
    "start_time": "2022-03-25T19:13:05.557Z"
   },
   {
    "duration": 2693,
    "start_time": "2022-03-25T19:13:15.236Z"
   },
   {
    "duration": 166,
    "start_time": "2022-03-25T19:13:36.287Z"
   },
   {
    "duration": 47,
    "start_time": "2022-03-25T19:13:44.281Z"
   },
   {
    "duration": 34,
    "start_time": "2022-03-25T19:13:51.757Z"
   },
   {
    "duration": 41,
    "start_time": "2022-03-25T19:14:08.750Z"
   },
   {
    "duration": 39,
    "start_time": "2022-03-25T19:17:56.459Z"
   },
   {
    "duration": 2630,
    "start_time": "2022-03-25T19:18:47.560Z"
   },
   {
    "duration": 36,
    "start_time": "2022-03-25T19:19:11.538Z"
   },
   {
    "duration": 22,
    "start_time": "2022-03-25T19:29:25.006Z"
   },
   {
    "duration": 22,
    "start_time": "2022-03-25T19:29:39.021Z"
   },
   {
    "duration": 7764,
    "start_time": "2022-03-25T19:45:10.623Z"
   },
   {
    "duration": 1496,
    "start_time": "2022-03-26T09:03:57.865Z"
   },
   {
    "duration": 186,
    "start_time": "2022-03-26T09:03:59.363Z"
   },
   {
    "duration": 22,
    "start_time": "2022-03-26T09:03:59.551Z"
   },
   {
    "duration": 71,
    "start_time": "2022-03-26T09:03:59.575Z"
   },
   {
    "duration": 137,
    "start_time": "2022-03-26T09:03:59.648Z"
   },
   {
    "duration": 7,
    "start_time": "2022-03-26T09:03:59.787Z"
   },
   {
    "duration": 94,
    "start_time": "2022-03-26T09:03:59.796Z"
   },
   {
    "duration": 3,
    "start_time": "2022-03-26T09:03:59.892Z"
   },
   {
    "duration": 11,
    "start_time": "2022-03-26T09:03:59.896Z"
   },
   {
    "duration": 64,
    "start_time": "2022-03-26T09:03:59.909Z"
   },
   {
    "duration": 19,
    "start_time": "2022-03-26T09:03:59.975Z"
   },
   {
    "duration": 37,
    "start_time": "2022-03-26T09:03:59.996Z"
   },
   {
    "duration": 39,
    "start_time": "2022-03-26T09:08:25.922Z"
   },
   {
    "duration": 143,
    "start_time": "2022-03-26T09:09:36.603Z"
   },
   {
    "duration": 46,
    "start_time": "2022-03-26T09:10:25.507Z"
   },
   {
    "duration": 46,
    "start_time": "2022-03-26T09:11:09.566Z"
   },
   {
    "duration": 241,
    "start_time": "2022-03-26T09:11:16.245Z"
   },
   {
    "duration": 232,
    "start_time": "2022-03-26T09:12:39.795Z"
   },
   {
    "duration": 281,
    "start_time": "2022-03-26T09:12:47.188Z"
   },
   {
    "duration": 326,
    "start_time": "2022-03-26T09:13:39.579Z"
   },
   {
    "duration": 316,
    "start_time": "2022-03-26T09:13:49.839Z"
   },
   {
    "duration": 320,
    "start_time": "2022-03-26T09:14:14.520Z"
   },
   {
    "duration": 336,
    "start_time": "2022-03-26T09:14:19.730Z"
   },
   {
    "duration": 394,
    "start_time": "2022-03-26T09:14:37.124Z"
   },
   {
    "duration": 296,
    "start_time": "2022-03-26T09:14:48.310Z"
   },
   {
    "duration": 310,
    "start_time": "2022-03-26T09:14:51.879Z"
   },
   {
    "duration": 313,
    "start_time": "2022-03-26T09:15:08.729Z"
   },
   {
    "duration": 300,
    "start_time": "2022-03-26T09:15:35.334Z"
   },
   {
    "duration": 297,
    "start_time": "2022-03-26T09:15:39.419Z"
   },
   {
    "duration": 345,
    "start_time": "2022-03-26T09:16:09.705Z"
   },
   {
    "duration": 313,
    "start_time": "2022-03-26T09:16:17.298Z"
   },
   {
    "duration": 300,
    "start_time": "2022-03-26T09:16:25.485Z"
   },
   {
    "duration": 302,
    "start_time": "2022-03-26T09:16:57.195Z"
   },
   {
    "duration": 295,
    "start_time": "2022-03-26T09:17:08.340Z"
   },
   {
    "duration": 403,
    "start_time": "2022-03-26T09:18:14.171Z"
   },
   {
    "duration": 218,
    "start_time": "2022-03-26T09:22:59.037Z"
   },
   {
    "duration": 2212,
    "start_time": "2022-03-26T09:23:59.072Z"
   },
   {
    "duration": 11,
    "start_time": "2022-03-26T09:24:39.842Z"
   },
   {
    "duration": 10,
    "start_time": "2022-03-26T09:24:44.329Z"
   },
   {
    "duration": 14,
    "start_time": "2022-03-26T09:24:49.283Z"
   },
   {
    "duration": 19,
    "start_time": "2022-03-26T09:26:00.054Z"
   },
   {
    "duration": 16,
    "start_time": "2022-03-26T09:26:08.512Z"
   },
   {
    "duration": 1369,
    "start_time": "2022-03-26T09:26:28.701Z"
   },
   {
    "duration": 182,
    "start_time": "2022-03-26T09:26:30.072Z"
   },
   {
    "duration": 24,
    "start_time": "2022-03-26T09:26:30.256Z"
   },
   {
    "duration": 82,
    "start_time": "2022-03-26T09:26:30.282Z"
   },
   {
    "duration": 136,
    "start_time": "2022-03-26T09:26:30.365Z"
   },
   {
    "duration": 7,
    "start_time": "2022-03-26T09:26:30.503Z"
   },
   {
    "duration": 94,
    "start_time": "2022-03-26T09:26:30.511Z"
   },
   {
    "duration": 4,
    "start_time": "2022-03-26T09:26:30.606Z"
   },
   {
    "duration": 25,
    "start_time": "2022-03-26T09:26:30.612Z"
   },
   {
    "duration": 59,
    "start_time": "2022-03-26T09:26:30.640Z"
   },
   {
    "duration": 19,
    "start_time": "2022-03-26T09:26:30.700Z"
   },
   {
    "duration": 50,
    "start_time": "2022-03-26T09:26:30.721Z"
   },
   {
    "duration": 323,
    "start_time": "2022-03-26T09:26:30.772Z"
   },
   {
    "duration": 15,
    "start_time": "2022-03-26T09:26:31.097Z"
   },
   {
    "duration": 787,
    "start_time": "2022-03-26T09:27:14.908Z"
   },
   {
    "duration": 30,
    "start_time": "2022-03-26T09:27:31.506Z"
   },
   {
    "duration": 574,
    "start_time": "2022-03-26T09:28:19.875Z"
   },
   {
    "duration": 657,
    "start_time": "2022-03-26T09:29:14.399Z"
   },
   {
    "duration": 2125,
    "start_time": "2022-03-26T09:29:36.091Z"
   },
   {
    "duration": 2388,
    "start_time": "2022-03-26T09:29:39.164Z"
   },
   {
    "duration": 84,
    "start_time": "2022-03-26T09:29:57.362Z"
   },
   {
    "duration": 29,
    "start_time": "2022-03-26T09:30:50.261Z"
   },
   {
    "duration": 29,
    "start_time": "2022-03-26T09:35:26.288Z"
   },
   {
    "duration": 32,
    "start_time": "2022-03-26T09:38:04.992Z"
   },
   {
    "duration": 14,
    "start_time": "2022-03-26T09:39:07.505Z"
   },
   {
    "duration": 41,
    "start_time": "2022-03-26T09:39:46.004Z"
   },
   {
    "duration": 36,
    "start_time": "2022-03-26T09:57:11.113Z"
   },
   {
    "duration": 59,
    "start_time": "2022-03-26T09:59:13.128Z"
   },
   {
    "duration": 43,
    "start_time": "2022-03-26T09:59:27.153Z"
   },
   {
    "duration": 37,
    "start_time": "2022-03-26T09:59:32.896Z"
   },
   {
    "duration": 26,
    "start_time": "2022-03-26T10:00:05.571Z"
   },
   {
    "duration": 26,
    "start_time": "2022-03-26T10:00:27.118Z"
   },
   {
    "duration": 58,
    "start_time": "2022-03-26T10:04:00.954Z"
   },
   {
    "duration": 30,
    "start_time": "2022-03-26T10:10:13.082Z"
   },
   {
    "duration": 58,
    "start_time": "2022-03-26T10:10:16.057Z"
   },
   {
    "duration": 57,
    "start_time": "2022-03-26T10:13:26.739Z"
   },
   {
    "duration": 63,
    "start_time": "2022-03-26T10:13:39.948Z"
   },
   {
    "duration": 63,
    "start_time": "2022-03-26T10:14:53.636Z"
   },
   {
    "duration": 62,
    "start_time": "2022-03-26T10:15:46.045Z"
   },
   {
    "duration": 104,
    "start_time": "2022-03-26T10:18:14.481Z"
   },
   {
    "duration": 70,
    "start_time": "2022-03-26T10:20:37.787Z"
   },
   {
    "duration": 31,
    "start_time": "2022-03-26T10:20:45.880Z"
   },
   {
    "duration": 8,
    "start_time": "2022-03-26T10:49:06.367Z"
   },
   {
    "duration": 26,
    "start_time": "2022-03-26T10:51:03.422Z"
   },
   {
    "duration": 9,
    "start_time": "2022-03-26T10:52:57.840Z"
   },
   {
    "duration": 8,
    "start_time": "2022-03-26T10:53:07.671Z"
   },
   {
    "duration": 7,
    "start_time": "2022-03-26T10:53:10.591Z"
   },
   {
    "duration": 11,
    "start_time": "2022-03-26T10:54:15.031Z"
   },
   {
    "duration": 7,
    "start_time": "2022-03-26T10:54:25.166Z"
   },
   {
    "duration": 64,
    "start_time": "2022-03-26T10:55:39.141Z"
   },
   {
    "duration": 160,
    "start_time": "2022-03-26T10:56:12.071Z"
   },
   {
    "duration": 73,
    "start_time": "2022-03-26T10:56:21.131Z"
   },
   {
    "duration": 75,
    "start_time": "2022-03-26T10:56:44.587Z"
   },
   {
    "duration": 77,
    "start_time": "2022-03-26T10:59:36.515Z"
   },
   {
    "duration": 78,
    "start_time": "2022-03-26T10:59:50.196Z"
   },
   {
    "duration": 2480,
    "start_time": "2022-03-26T11:09:19.221Z"
   },
   {
    "duration": 354,
    "start_time": "2022-03-26T11:09:21.705Z"
   },
   {
    "duration": 46,
    "start_time": "2022-03-26T11:09:22.062Z"
   },
   {
    "duration": 138,
    "start_time": "2022-03-26T11:09:22.113Z"
   },
   {
    "duration": 247,
    "start_time": "2022-03-26T11:09:22.254Z"
   },
   {
    "duration": 12,
    "start_time": "2022-03-26T11:09:22.504Z"
   },
   {
    "duration": 211,
    "start_time": "2022-03-26T11:09:22.519Z"
   },
   {
    "duration": 5,
    "start_time": "2022-03-26T11:09:22.744Z"
   },
   {
    "duration": 14,
    "start_time": "2022-03-26T11:09:22.752Z"
   },
   {
    "duration": 110,
    "start_time": "2022-03-26T11:09:22.770Z"
   },
   {
    "duration": 38,
    "start_time": "2022-03-26T11:09:22.883Z"
   },
   {
    "duration": 54,
    "start_time": "2022-03-26T11:09:22.923Z"
   },
   {
    "duration": 666,
    "start_time": "2022-03-26T11:09:22.981Z"
   },
   {
    "duration": 197,
    "start_time": "2022-03-26T11:09:23.649Z"
   },
   {
    "duration": 60,
    "start_time": "2022-03-26T11:09:23.849Z"
   },
   {
    "duration": 118,
    "start_time": "2022-03-26T11:09:23.911Z"
   },
   {
    "duration": 93,
    "start_time": "2022-03-26T11:09:24.032Z"
   },
   {
    "duration": 173,
    "start_time": "2022-03-26T11:09:24.127Z"
   },
   {
    "duration": 179,
    "start_time": "2022-03-26T11:14:08.692Z"
   },
   {
    "duration": 108,
    "start_time": "2022-03-26T11:14:25.753Z"
   },
   {
    "duration": 114,
    "start_time": "2022-03-26T11:14:52.033Z"
   },
   {
    "duration": 108,
    "start_time": "2022-03-26T11:15:13.582Z"
   },
   {
    "duration": 122,
    "start_time": "2022-03-26T11:18:37.240Z"
   },
   {
    "duration": 114,
    "start_time": "2022-03-26T11:18:51.151Z"
   },
   {
    "duration": 299,
    "start_time": "2022-03-26T11:18:58.228Z"
   },
   {
    "duration": 306,
    "start_time": "2022-03-26T11:20:17.161Z"
   },
   {
    "duration": 493,
    "start_time": "2022-03-26T11:29:42.676Z"
   },
   {
    "duration": 304,
    "start_time": "2022-03-26T11:30:47.201Z"
   },
   {
    "duration": 46,
    "start_time": "2022-03-26T11:54:41.190Z"
   },
   {
    "duration": 76,
    "start_time": "2022-03-26T12:03:25.918Z"
   },
   {
    "duration": 51,
    "start_time": "2022-03-26T12:15:50.905Z"
   },
   {
    "duration": 9,
    "start_time": "2022-03-26T12:16:14.010Z"
   },
   {
    "duration": 59,
    "start_time": "2022-03-26T12:55:19.627Z"
   },
   {
    "duration": 145,
    "start_time": "2022-03-26T12:56:13.154Z"
   },
   {
    "duration": 27,
    "start_time": "2022-03-26T12:59:12.978Z"
   },
   {
    "duration": 13,
    "start_time": "2022-03-26T13:00:09.720Z"
   },
   {
    "duration": 15,
    "start_time": "2022-03-26T13:00:31.403Z"
   },
   {
    "duration": 32,
    "start_time": "2022-03-26T13:00:48.359Z"
   },
   {
    "duration": 7,
    "start_time": "2022-03-26T14:07:17.029Z"
   },
   {
    "duration": 11,
    "start_time": "2022-03-26T14:07:45.365Z"
   },
   {
    "duration": 20,
    "start_time": "2022-03-26T14:07:54.849Z"
   },
   {
    "duration": 28,
    "start_time": "2022-03-26T14:08:08.178Z"
   },
   {
    "duration": 142,
    "start_time": "2022-03-26T14:18:38.494Z"
   },
   {
    "duration": 214,
    "start_time": "2022-03-26T14:24:44.814Z"
   },
   {
    "duration": 193,
    "start_time": "2022-03-26T14:25:01.888Z"
   },
   {
    "duration": 20,
    "start_time": "2022-03-26T14:25:19.114Z"
   },
   {
    "duration": 18,
    "start_time": "2022-03-26T14:25:55.785Z"
   },
   {
    "duration": 2683,
    "start_time": "2022-03-26T14:26:24.678Z"
   },
   {
    "duration": 191,
    "start_time": "2022-03-26T14:28:35.275Z"
   },
   {
    "duration": 2745,
    "start_time": "2022-03-26T14:28:41.087Z"
   },
   {
    "duration": 109,
    "start_time": "2022-03-26T14:29:33.252Z"
   },
   {
    "duration": 24,
    "start_time": "2022-03-26T14:29:38.803Z"
   },
   {
    "duration": 25,
    "start_time": "2022-03-26T14:30:21.930Z"
   },
   {
    "duration": 107,
    "start_time": "2022-03-26T14:30:38.572Z"
   },
   {
    "duration": 2768,
    "start_time": "2022-03-26T14:30:41.231Z"
   },
   {
    "duration": 2707,
    "start_time": "2022-03-26T14:33:52.297Z"
   },
   {
    "duration": 2730,
    "start_time": "2022-03-26T14:34:21.919Z"
   },
   {
    "duration": 109,
    "start_time": "2022-03-26T14:35:02.186Z"
   },
   {
    "duration": 25,
    "start_time": "2022-03-26T14:35:07.000Z"
   },
   {
    "duration": 32,
    "start_time": "2022-03-26T14:36:12.956Z"
   },
   {
    "duration": 114,
    "start_time": "2022-03-26T14:36:17.205Z"
   },
   {
    "duration": 5789,
    "start_time": "2022-03-26T14:36:24.323Z"
   },
   {
    "duration": 2852,
    "start_time": "2022-03-26T14:39:27.674Z"
   },
   {
    "duration": 145,
    "start_time": "2022-03-26T14:43:19.777Z"
   },
   {
    "duration": 21,
    "start_time": "2022-03-26T14:43:56.648Z"
   },
   {
    "duration": 5,
    "start_time": "2022-03-26T14:44:53.927Z"
   },
   {
    "duration": 28,
    "start_time": "2022-03-26T14:45:00.909Z"
   },
   {
    "duration": 6,
    "start_time": "2022-03-26T14:45:49.034Z"
   },
   {
    "duration": 5,
    "start_time": "2022-03-26T14:46:00.379Z"
   },
   {
    "duration": 5,
    "start_time": "2022-03-26T14:46:07.463Z"
   },
   {
    "duration": 21,
    "start_time": "2022-03-26T14:46:13.675Z"
   },
   {
    "duration": 6,
    "start_time": "2022-03-26T14:46:22.562Z"
   },
   {
    "duration": 31,
    "start_time": "2022-03-26T14:46:25.686Z"
   },
   {
    "duration": 8,
    "start_time": "2022-03-26T14:46:43.762Z"
   },
   {
    "duration": 28,
    "start_time": "2022-03-26T14:46:46.792Z"
   },
   {
    "duration": 6,
    "start_time": "2022-03-26T14:48:07.589Z"
   },
   {
    "duration": 7,
    "start_time": "2022-03-26T14:48:18.403Z"
   },
   {
    "duration": 28,
    "start_time": "2022-03-26T14:48:22.044Z"
   },
   {
    "duration": 1779,
    "start_time": "2022-03-26T14:48:37.385Z"
   },
   {
    "duration": 222,
    "start_time": "2022-03-26T14:48:39.166Z"
   },
   {
    "duration": 28,
    "start_time": "2022-03-26T14:48:39.391Z"
   },
   {
    "duration": 103,
    "start_time": "2022-03-26T14:48:39.423Z"
   },
   {
    "duration": 246,
    "start_time": "2022-03-26T14:48:39.529Z"
   },
   {
    "duration": 11,
    "start_time": "2022-03-26T14:48:39.777Z"
   },
   {
    "duration": 135,
    "start_time": "2022-03-26T14:48:39.790Z"
   },
   {
    "duration": 16,
    "start_time": "2022-03-26T14:48:39.927Z"
   },
   {
    "duration": 9,
    "start_time": "2022-03-26T14:48:39.945Z"
   },
   {
    "duration": 60,
    "start_time": "2022-03-26T14:48:39.958Z"
   },
   {
    "duration": 43,
    "start_time": "2022-03-26T14:48:40.020Z"
   },
   {
    "duration": 26,
    "start_time": "2022-03-26T14:48:40.065Z"
   },
   {
    "duration": 465,
    "start_time": "2022-03-26T14:48:40.094Z"
   },
   {
    "duration": 118,
    "start_time": "2022-03-26T14:48:40.562Z"
   },
   {
    "duration": 73,
    "start_time": "2022-03-26T14:48:40.683Z"
   },
   {
    "duration": 106,
    "start_time": "2022-03-26T14:48:40.758Z"
   },
   {
    "duration": 96,
    "start_time": "2022-03-26T14:48:40.866Z"
   },
   {
    "duration": 323,
    "start_time": "2022-03-26T14:48:40.965Z"
   },
   {
    "duration": 66,
    "start_time": "2022-03-26T14:48:41.291Z"
   },
   {
    "duration": 84,
    "start_time": "2022-03-26T14:48:41.360Z"
   },
   {
    "duration": 29,
    "start_time": "2022-03-26T14:48:41.447Z"
   },
   {
    "duration": 33,
    "start_time": "2022-03-26T14:48:41.478Z"
   },
   {
    "duration": 30,
    "start_time": "2022-03-26T14:48:41.514Z"
   },
   {
    "duration": 161,
    "start_time": "2022-03-26T14:48:41.546Z"
   },
   {
    "duration": 178,
    "start_time": "2022-03-26T14:48:41.709Z"
   },
   {
    "duration": 5,
    "start_time": "2022-03-26T14:50:23.422Z"
   },
   {
    "duration": 17,
    "start_time": "2022-03-26T14:50:27.519Z"
   },
   {
    "duration": 23,
    "start_time": "2022-03-26T14:51:26.475Z"
   },
   {
    "duration": 250,
    "start_time": "2022-03-26T15:05:43.032Z"
   },
   {
    "duration": 263,
    "start_time": "2022-03-26T15:06:16.752Z"
   },
   {
    "duration": 246,
    "start_time": "2022-03-26T15:06:26.772Z"
   },
   {
    "duration": 241,
    "start_time": "2022-03-26T15:06:52.857Z"
   },
   {
    "duration": 326,
    "start_time": "2022-03-26T15:07:01.668Z"
   },
   {
    "duration": 10,
    "start_time": "2022-03-26T15:08:49.534Z"
   },
   {
    "duration": 260,
    "start_time": "2022-03-26T15:09:10.068Z"
   },
   {
    "duration": 248,
    "start_time": "2022-03-26T15:11:14.714Z"
   },
   {
    "duration": 267,
    "start_time": "2022-03-26T15:13:21.270Z"
   },
   {
    "duration": 280,
    "start_time": "2022-03-26T15:13:41.985Z"
   },
   {
    "duration": 253,
    "start_time": "2022-03-26T15:13:53.504Z"
   },
   {
    "duration": 33,
    "start_time": "2022-03-26T15:16:27.666Z"
   },
   {
    "duration": 31,
    "start_time": "2022-03-26T15:17:27.029Z"
   },
   {
    "duration": 29,
    "start_time": "2022-03-26T15:18:14.301Z"
   },
   {
    "duration": 151,
    "start_time": "2022-03-26T15:21:31.624Z"
   },
   {
    "duration": 2901,
    "start_time": "2022-03-26T15:22:36.469Z"
   },
   {
    "duration": 48,
    "start_time": "2022-03-26T15:22:51.295Z"
   },
   {
    "duration": 146,
    "start_time": "2022-03-26T15:26:51.225Z"
   },
   {
    "duration": 152,
    "start_time": "2022-03-26T15:28:05.947Z"
   },
   {
    "duration": 209,
    "start_time": "2022-03-26T15:29:48.057Z"
   },
   {
    "duration": 191,
    "start_time": "2022-03-26T15:31:12.698Z"
   },
   {
    "duration": 156,
    "start_time": "2022-03-26T15:31:30.987Z"
   },
   {
    "duration": 147,
    "start_time": "2022-03-26T15:32:34.253Z"
   },
   {
    "duration": 154,
    "start_time": "2022-03-26T15:32:51.050Z"
   },
   {
    "duration": 168,
    "start_time": "2022-03-26T15:33:07.634Z"
   },
   {
    "duration": 186,
    "start_time": "2022-03-26T15:33:24.141Z"
   },
   {
    "duration": 233,
    "start_time": "2022-03-26T15:36:57.883Z"
   },
   {
    "duration": 192,
    "start_time": "2022-03-26T15:37:50.266Z"
   },
   {
    "duration": 165,
    "start_time": "2022-03-26T15:39:53.077Z"
   },
   {
    "duration": 824,
    "start_time": "2022-03-26T15:40:15.987Z"
   },
   {
    "duration": 352,
    "start_time": "2022-03-26T15:40:22.585Z"
   },
   {
    "duration": 226,
    "start_time": "2022-03-26T15:40:54.306Z"
   },
   {
    "duration": 196,
    "start_time": "2022-03-26T15:42:03.035Z"
   },
   {
    "duration": 1427,
    "start_time": "2022-03-27T10:35:19.938Z"
   },
   {
    "duration": 175,
    "start_time": "2022-03-27T10:35:21.367Z"
   },
   {
    "duration": 20,
    "start_time": "2022-03-27T10:35:21.543Z"
   },
   {
    "duration": 69,
    "start_time": "2022-03-27T10:35:21.564Z"
   },
   {
    "duration": 119,
    "start_time": "2022-03-27T10:35:21.634Z"
   },
   {
    "duration": 6,
    "start_time": "2022-03-27T10:35:21.755Z"
   },
   {
    "duration": 88,
    "start_time": "2022-03-27T10:35:21.763Z"
   },
   {
    "duration": 4,
    "start_time": "2022-03-27T10:35:21.852Z"
   },
   {
    "duration": 9,
    "start_time": "2022-03-27T10:35:21.858Z"
   },
   {
    "duration": 41,
    "start_time": "2022-03-27T10:35:21.890Z"
   },
   {
    "duration": 16,
    "start_time": "2022-03-27T10:35:21.933Z"
   },
   {
    "duration": 16,
    "start_time": "2022-03-27T10:35:21.950Z"
   },
   {
    "duration": 260,
    "start_time": "2022-03-27T10:35:21.968Z"
   },
   {
    "duration": 86,
    "start_time": "2022-03-27T10:35:22.229Z"
   },
   {
    "duration": 32,
    "start_time": "2022-03-27T10:35:22.318Z"
   },
   {
    "duration": 76,
    "start_time": "2022-03-27T10:35:22.352Z"
   },
   {
    "duration": 96,
    "start_time": "2022-03-27T10:35:22.430Z"
   },
   {
    "duration": 329,
    "start_time": "2022-03-27T10:35:22.528Z"
   },
   {
    "duration": 43,
    "start_time": "2022-03-27T10:35:22.858Z"
   },
   {
    "duration": 45,
    "start_time": "2022-03-27T10:35:22.903Z"
   },
   {
    "duration": 32,
    "start_time": "2022-03-27T10:35:22.949Z"
   },
   {
    "duration": 27,
    "start_time": "2022-03-27T10:35:22.983Z"
   },
   {
    "duration": 5,
    "start_time": "2022-03-27T10:35:23.011Z"
   },
   {
    "duration": 128,
    "start_time": "2022-03-27T10:35:23.018Z"
   },
   {
    "duration": 18,
    "start_time": "2022-03-27T10:35:23.147Z"
   },
   {
    "duration": 167,
    "start_time": "2022-03-27T10:35:23.167Z"
   },
   {
    "duration": 159,
    "start_time": "2022-03-27T10:35:23.336Z"
   },
   {
    "duration": 154,
    "start_time": "2022-03-27T10:35:23.498Z"
   },
   {
    "duration": 15,
    "start_time": "2022-03-27T10:35:23.654Z"
   },
   {
    "duration": 32,
    "start_time": "2022-03-27T10:35:23.671Z"
   },
   {
    "duration": 368,
    "start_time": "2022-03-27T10:35:23.706Z"
   },
   {
    "duration": 22,
    "start_time": "2022-03-27T10:37:59.092Z"
   },
   {
    "duration": 27,
    "start_time": "2022-03-27T10:38:38.655Z"
   },
   {
    "duration": 28,
    "start_time": "2022-03-27T10:38:57.108Z"
   },
   {
    "duration": 53,
    "start_time": "2022-03-27T10:40:13.622Z"
   },
   {
    "duration": 355,
    "start_time": "2022-03-27T10:41:21.890Z"
   },
   {
    "duration": 3,
    "start_time": "2022-03-27T10:43:11.022Z"
   },
   {
    "duration": 415,
    "start_time": "2022-03-27T10:43:20.405Z"
   },
   {
    "duration": 2483,
    "start_time": "2022-03-27T10:44:53.911Z"
   },
   {
    "duration": 2543,
    "start_time": "2022-03-27T10:45:12.042Z"
   },
   {
    "duration": 2899,
    "start_time": "2022-03-27T10:51:13.083Z"
   },
   {
    "duration": 1369,
    "start_time": "2022-03-27T14:09:11.195Z"
   },
   {
    "duration": 168,
    "start_time": "2022-03-27T14:09:12.566Z"
   },
   {
    "duration": 20,
    "start_time": "2022-03-27T14:09:12.737Z"
   },
   {
    "duration": 60,
    "start_time": "2022-03-27T14:09:12.760Z"
   },
   {
    "duration": 124,
    "start_time": "2022-03-27T14:09:12.821Z"
   },
   {
    "duration": 6,
    "start_time": "2022-03-27T14:09:12.947Z"
   },
   {
    "duration": 82,
    "start_time": "2022-03-27T14:09:12.954Z"
   },
   {
    "duration": 3,
    "start_time": "2022-03-27T14:09:13.037Z"
   },
   {
    "duration": 14,
    "start_time": "2022-03-27T14:09:13.041Z"
   },
   {
    "duration": 53,
    "start_time": "2022-03-27T14:09:13.057Z"
   },
   {
    "duration": 16,
    "start_time": "2022-03-27T14:09:13.111Z"
   },
   {
    "duration": 18,
    "start_time": "2022-03-27T14:09:13.129Z"
   },
   {
    "duration": 265,
    "start_time": "2022-03-27T14:09:13.148Z"
   },
   {
    "duration": 77,
    "start_time": "2022-03-27T14:09:13.414Z"
   },
   {
    "duration": 31,
    "start_time": "2022-03-27T14:09:13.493Z"
   },
   {
    "duration": 75,
    "start_time": "2022-03-27T14:09:13.525Z"
   },
   {
    "duration": 55,
    "start_time": "2022-03-27T14:09:13.601Z"
   },
   {
    "duration": 198,
    "start_time": "2022-03-27T14:09:13.657Z"
   },
   {
    "duration": 46,
    "start_time": "2022-03-27T14:09:13.857Z"
   },
   {
    "duration": 42,
    "start_time": "2022-03-27T14:09:13.905Z"
   },
   {
    "duration": 34,
    "start_time": "2022-03-27T14:09:13.949Z"
   },
   {
    "duration": 26,
    "start_time": "2022-03-27T14:09:13.985Z"
   },
   {
    "duration": 3,
    "start_time": "2022-03-27T14:09:14.013Z"
   },
   {
    "duration": 119,
    "start_time": "2022-03-27T14:09:14.018Z"
   },
   {
    "duration": 15,
    "start_time": "2022-03-27T14:09:14.138Z"
   },
   {
    "duration": 163,
    "start_time": "2022-03-27T14:09:14.154Z"
   },
   {
    "duration": 240,
    "start_time": "2022-03-27T14:09:14.319Z"
   },
   {
    "duration": 241,
    "start_time": "2022-03-27T14:09:14.563Z"
   },
   {
    "duration": 21,
    "start_time": "2022-03-27T14:09:14.806Z"
   },
   {
    "duration": 22,
    "start_time": "2022-03-27T14:09:14.828Z"
   },
   {
    "duration": 435,
    "start_time": "2022-03-27T14:09:14.852Z"
   },
   {
    "duration": 2836,
    "start_time": "2022-03-27T14:09:15.289Z"
   },
   {
    "duration": 17,
    "start_time": "2022-03-27T14:16:04.450Z"
   },
   {
    "duration": 5,
    "start_time": "2022-03-27T14:16:25.420Z"
   },
   {
    "duration": 17,
    "start_time": "2022-03-27T14:17:21.391Z"
   },
   {
    "duration": 2732,
    "start_time": "2022-03-27T14:17:49.879Z"
   },
   {
    "duration": 2584,
    "start_time": "2022-03-27T14:18:44.631Z"
   },
   {
    "duration": 2455,
    "start_time": "2022-03-27T14:18:55.210Z"
   },
   {
    "duration": 2579,
    "start_time": "2022-03-27T14:19:48.068Z"
   },
   {
    "duration": 8131,
    "start_time": "2022-03-27T14:20:04.809Z"
   },
   {
    "duration": 5,
    "start_time": "2022-03-27T14:20:30.204Z"
   },
   {
    "duration": 4,
    "start_time": "2022-03-27T14:20:35.086Z"
   },
   {
    "duration": 4,
    "start_time": "2022-03-27T14:20:37.885Z"
   },
   {
    "duration": 2625,
    "start_time": "2022-03-27T14:20:49.823Z"
   },
   {
    "duration": 1955,
    "start_time": "2022-03-27T14:40:23.636Z"
   },
   {
    "duration": 372,
    "start_time": "2022-03-27T14:40:25.594Z"
   },
   {
    "duration": 30,
    "start_time": "2022-03-27T14:40:25.968Z"
   },
   {
    "duration": 103,
    "start_time": "2022-03-27T14:40:26.002Z"
   },
   {
    "duration": 192,
    "start_time": "2022-03-27T14:40:26.107Z"
   },
   {
    "duration": 10,
    "start_time": "2022-03-27T14:40:26.301Z"
   },
   {
    "duration": 132,
    "start_time": "2022-03-27T14:40:26.313Z"
   },
   {
    "duration": 5,
    "start_time": "2022-03-27T14:40:26.447Z"
   },
   {
    "duration": 30,
    "start_time": "2022-03-27T14:40:26.454Z"
   },
   {
    "duration": 78,
    "start_time": "2022-03-27T14:40:26.487Z"
   },
   {
    "duration": 24,
    "start_time": "2022-03-27T14:40:26.568Z"
   },
   {
    "duration": 29,
    "start_time": "2022-03-27T14:40:26.594Z"
   },
   {
    "duration": 484,
    "start_time": "2022-03-27T14:40:26.626Z"
   },
   {
    "duration": 128,
    "start_time": "2022-03-27T14:40:27.113Z"
   },
   {
    "duration": 64,
    "start_time": "2022-03-27T14:40:27.243Z"
   },
   {
    "duration": 114,
    "start_time": "2022-03-27T14:40:27.309Z"
   },
   {
    "duration": 96,
    "start_time": "2022-03-27T14:40:27.426Z"
   },
   {
    "duration": 343,
    "start_time": "2022-03-27T14:40:27.524Z"
   },
   {
    "duration": 49,
    "start_time": "2022-03-27T14:40:27.874Z"
   },
   {
    "duration": 94,
    "start_time": "2022-03-27T14:40:27.926Z"
   },
   {
    "duration": 29,
    "start_time": "2022-03-27T14:40:28.022Z"
   },
   {
    "duration": 49,
    "start_time": "2022-03-27T14:40:28.054Z"
   },
   {
    "duration": 6,
    "start_time": "2022-03-27T14:40:28.105Z"
   },
   {
    "duration": 183,
    "start_time": "2022-03-27T14:40:28.113Z"
   },
   {
    "duration": 23,
    "start_time": "2022-03-27T14:40:28.298Z"
   },
   {
    "duration": 291,
    "start_time": "2022-03-27T14:40:28.323Z"
   },
   {
    "duration": 269,
    "start_time": "2022-03-27T14:40:28.616Z"
   },
   {
    "duration": 283,
    "start_time": "2022-03-27T14:40:28.890Z"
   },
   {
    "duration": 24,
    "start_time": "2022-03-27T14:40:29.176Z"
   },
   {
    "duration": 34,
    "start_time": "2022-03-27T14:40:29.203Z"
   },
   {
    "duration": 386,
    "start_time": "2022-03-27T14:40:29.239Z"
   },
   {
    "duration": 5,
    "start_time": "2022-03-27T14:40:29.627Z"
   },
   {
    "duration": 2023,
    "start_time": "2022-03-27T14:40:29.635Z"
   },
   {
    "duration": 1906,
    "start_time": "2022-03-27T14:40:34.931Z"
   },
   {
    "duration": 1790,
    "start_time": "2022-03-27T14:40:40.730Z"
   },
   {
    "duration": 1827,
    "start_time": "2022-03-27T14:40:54.532Z"
   },
   {
    "duration": 7,
    "start_time": "2022-03-27T14:41:03.143Z"
   },
   {
    "duration": 1783,
    "start_time": "2022-03-27T14:41:11.645Z"
   },
   {
    "duration": 7,
    "start_time": "2022-03-27T14:41:26.367Z"
   },
   {
    "duration": 153,
    "start_time": "2022-03-27T14:42:00.974Z"
   },
   {
    "duration": 162,
    "start_time": "2022-03-27T14:42:14.513Z"
   },
   {
    "duration": 1774,
    "start_time": "2022-03-27T14:42:28.189Z"
   },
   {
    "duration": 145,
    "start_time": "2022-03-27T14:45:12.456Z"
   },
   {
    "duration": 7,
    "start_time": "2022-03-27T14:46:12.363Z"
   },
   {
    "duration": 25,
    "start_time": "2022-03-27T14:46:29.219Z"
   },
   {
    "duration": 513,
    "start_time": "2022-03-27T15:01:29.303Z"
   },
   {
    "duration": 23,
    "start_time": "2022-03-27T15:02:03.876Z"
   },
   {
    "duration": 5,
    "start_time": "2022-03-27T15:04:25.459Z"
   },
   {
    "duration": 10,
    "start_time": "2022-03-27T15:04:41.337Z"
   },
   {
    "duration": 1700,
    "start_time": "2022-03-27T15:04:48.904Z"
   },
   {
    "duration": 228,
    "start_time": "2022-03-27T15:04:50.607Z"
   },
   {
    "duration": 46,
    "start_time": "2022-03-27T15:04:50.838Z"
   },
   {
    "duration": 105,
    "start_time": "2022-03-27T15:04:50.888Z"
   },
   {
    "duration": 202,
    "start_time": "2022-03-27T15:04:50.996Z"
   },
   {
    "duration": 11,
    "start_time": "2022-03-27T15:04:51.200Z"
   },
   {
    "duration": 141,
    "start_time": "2022-03-27T15:04:51.213Z"
   },
   {
    "duration": 16,
    "start_time": "2022-03-27T15:04:51.357Z"
   },
   {
    "duration": 9,
    "start_time": "2022-03-27T15:04:51.376Z"
   },
   {
    "duration": 110,
    "start_time": "2022-03-27T15:04:51.391Z"
   },
   {
    "duration": 36,
    "start_time": "2022-03-27T15:04:51.504Z"
   },
   {
    "duration": 49,
    "start_time": "2022-03-27T15:04:51.542Z"
   },
   {
    "duration": 493,
    "start_time": "2022-03-27T15:04:51.594Z"
   },
   {
    "duration": 127,
    "start_time": "2022-03-27T15:04:52.090Z"
   },
   {
    "duration": 57,
    "start_time": "2022-03-27T15:04:52.219Z"
   },
   {
    "duration": 111,
    "start_time": "2022-03-27T15:04:52.278Z"
   },
   {
    "duration": 101,
    "start_time": "2022-03-27T15:04:52.391Z"
   },
   {
    "duration": 328,
    "start_time": "2022-03-27T15:04:52.494Z"
   },
   {
    "duration": 60,
    "start_time": "2022-03-27T15:04:52.824Z"
   },
   {
    "duration": 70,
    "start_time": "2022-03-27T15:04:52.887Z"
   },
   {
    "duration": 42,
    "start_time": "2022-03-27T15:04:52.959Z"
   },
   {
    "duration": 33,
    "start_time": "2022-03-27T15:04:53.003Z"
   },
   {
    "duration": 5,
    "start_time": "2022-03-27T15:04:53.039Z"
   },
   {
    "duration": 228,
    "start_time": "2022-03-27T15:04:53.074Z"
   },
   {
    "duration": 34,
    "start_time": "2022-03-27T15:04:53.305Z"
   },
   {
    "duration": 301,
    "start_time": "2022-03-27T15:04:53.342Z"
   },
   {
    "duration": 294,
    "start_time": "2022-03-27T15:04:53.645Z"
   },
   {
    "duration": 299,
    "start_time": "2022-03-27T15:04:53.946Z"
   },
   {
    "duration": 35,
    "start_time": "2022-03-27T15:04:54.248Z"
   },
   {
    "duration": 24,
    "start_time": "2022-03-27T15:04:54.285Z"
   },
   {
    "duration": 593,
    "start_time": "2022-03-27T15:04:54.312Z"
   },
   {
    "duration": 1982,
    "start_time": "2022-03-27T15:04:54.908Z"
   },
   {
    "duration": 0,
    "start_time": "2022-03-27T15:04:56.892Z"
   },
   {
    "duration": 0,
    "start_time": "2022-03-27T15:04:56.895Z"
   },
   {
    "duration": 1639,
    "start_time": "2022-03-27T15:06:34.840Z"
   },
   {
    "duration": 216,
    "start_time": "2022-03-27T15:06:36.482Z"
   },
   {
    "duration": 27,
    "start_time": "2022-03-27T15:06:36.700Z"
   },
   {
    "duration": 106,
    "start_time": "2022-03-27T15:06:36.730Z"
   },
   {
    "duration": 195,
    "start_time": "2022-03-27T15:06:36.838Z"
   },
   {
    "duration": 9,
    "start_time": "2022-03-27T15:06:37.035Z"
   },
   {
    "duration": 133,
    "start_time": "2022-03-27T15:06:37.047Z"
   },
   {
    "duration": 4,
    "start_time": "2022-03-27T15:06:37.182Z"
   },
   {
    "duration": 12,
    "start_time": "2022-03-27T15:06:37.189Z"
   },
   {
    "duration": 92,
    "start_time": "2022-03-27T15:06:37.204Z"
   },
   {
    "duration": 23,
    "start_time": "2022-03-27T15:06:37.298Z"
   },
   {
    "duration": 30,
    "start_time": "2022-03-27T15:06:37.323Z"
   },
   {
    "duration": 466,
    "start_time": "2022-03-27T15:06:37.355Z"
   },
   {
    "duration": 116,
    "start_time": "2022-03-27T15:06:37.823Z"
   },
   {
    "duration": 57,
    "start_time": "2022-03-27T15:06:37.942Z"
   },
   {
    "duration": 104,
    "start_time": "2022-03-27T15:06:38.002Z"
   },
   {
    "duration": 102,
    "start_time": "2022-03-27T15:06:38.108Z"
   },
   {
    "duration": 313,
    "start_time": "2022-03-27T15:06:38.212Z"
   },
   {
    "duration": 57,
    "start_time": "2022-03-27T15:06:38.527Z"
   },
   {
    "duration": 69,
    "start_time": "2022-03-27T15:06:38.586Z"
   },
   {
    "duration": 40,
    "start_time": "2022-03-27T15:06:38.658Z"
   },
   {
    "duration": 33,
    "start_time": "2022-03-27T15:06:38.700Z"
   },
   {
    "duration": 6,
    "start_time": "2022-03-27T15:06:38.735Z"
   },
   {
    "duration": 180,
    "start_time": "2022-03-27T15:06:38.743Z"
   },
   {
    "duration": 22,
    "start_time": "2022-03-27T15:06:38.925Z"
   },
   {
    "duration": 274,
    "start_time": "2022-03-27T15:06:38.949Z"
   },
   {
    "duration": 274,
    "start_time": "2022-03-27T15:06:39.226Z"
   },
   {
    "duration": 285,
    "start_time": "2022-03-27T15:06:39.506Z"
   },
   {
    "duration": 24,
    "start_time": "2022-03-27T15:06:39.793Z"
   },
   {
    "duration": 23,
    "start_time": "2022-03-27T15:06:39.819Z"
   },
   {
    "duration": 405,
    "start_time": "2022-03-27T15:06:39.844Z"
   },
   {
    "duration": 35,
    "start_time": "2022-03-27T15:06:40.251Z"
   },
   {
    "duration": 13,
    "start_time": "2022-03-27T15:06:40.288Z"
   },
   {
    "duration": 96,
    "start_time": "2022-03-27T15:06:40.303Z"
   },
   {
    "duration": 8,
    "start_time": "2022-03-27T15:07:05.074Z"
   },
   {
    "duration": 11,
    "start_time": "2022-03-27T15:07:13.452Z"
   },
   {
    "duration": 10,
    "start_time": "2022-03-27T15:07:20.023Z"
   },
   {
    "duration": 73,
    "start_time": "2022-03-27T15:09:20.283Z"
   },
   {
    "duration": 35,
    "start_time": "2022-03-27T15:49:09.697Z"
   },
   {
    "duration": 40,
    "start_time": "2022-03-27T15:50:54.285Z"
   },
   {
    "duration": 35,
    "start_time": "2022-03-27T15:51:36.927Z"
   },
   {
    "duration": 30,
    "start_time": "2022-03-27T15:51:58.960Z"
   },
   {
    "duration": 1935,
    "start_time": "2022-03-27T15:59:00.804Z"
   },
   {
    "duration": 369,
    "start_time": "2022-03-27T15:59:02.743Z"
   },
   {
    "duration": 37,
    "start_time": "2022-03-27T15:59:03.114Z"
   },
   {
    "duration": 140,
    "start_time": "2022-03-27T15:59:03.155Z"
   },
   {
    "duration": 206,
    "start_time": "2022-03-27T15:59:03.298Z"
   },
   {
    "duration": 11,
    "start_time": "2022-03-27T15:59:03.507Z"
   },
   {
    "duration": 139,
    "start_time": "2022-03-27T15:59:03.520Z"
   },
   {
    "duration": 14,
    "start_time": "2022-03-27T15:59:03.662Z"
   },
   {
    "duration": 14,
    "start_time": "2022-03-27T15:59:03.679Z"
   },
   {
    "duration": 115,
    "start_time": "2022-03-27T15:59:03.699Z"
   },
   {
    "duration": 51,
    "start_time": "2022-03-27T15:59:03.817Z"
   },
   {
    "duration": 37,
    "start_time": "2022-03-27T15:59:03.874Z"
   },
   {
    "duration": 725,
    "start_time": "2022-03-27T15:59:03.914Z"
   },
   {
    "duration": 155,
    "start_time": "2022-03-27T15:59:04.642Z"
   },
   {
    "duration": 75,
    "start_time": "2022-03-27T15:59:04.800Z"
   },
   {
    "duration": 166,
    "start_time": "2022-03-27T15:59:04.878Z"
   },
   {
    "duration": 144,
    "start_time": "2022-03-27T15:59:05.047Z"
   },
   {
    "duration": 483,
    "start_time": "2022-03-27T15:59:05.194Z"
   },
   {
    "duration": 54,
    "start_time": "2022-03-27T15:59:05.680Z"
   },
   {
    "duration": 99,
    "start_time": "2022-03-27T15:59:05.736Z"
   },
   {
    "duration": 42,
    "start_time": "2022-03-27T15:59:05.837Z"
   },
   {
    "duration": 37,
    "start_time": "2022-03-27T15:59:05.881Z"
   },
   {
    "duration": 6,
    "start_time": "2022-03-27T15:59:05.920Z"
   },
   {
    "duration": 187,
    "start_time": "2022-03-27T15:59:05.929Z"
   },
   {
    "duration": 25,
    "start_time": "2022-03-27T15:59:06.118Z"
   },
   {
    "duration": 293,
    "start_time": "2022-03-27T15:59:06.145Z"
   },
   {
    "duration": 276,
    "start_time": "2022-03-27T15:59:06.440Z"
   },
   {
    "duration": 289,
    "start_time": "2022-03-27T15:59:06.721Z"
   },
   {
    "duration": 29,
    "start_time": "2022-03-27T15:59:07.013Z"
   },
   {
    "duration": 57,
    "start_time": "2022-03-27T15:59:07.045Z"
   },
   {
    "duration": 502,
    "start_time": "2022-03-27T15:59:07.105Z"
   },
   {
    "duration": 22,
    "start_time": "2022-03-27T15:59:07.609Z"
   },
   {
    "duration": 105,
    "start_time": "2022-03-27T15:59:07.633Z"
   },
   {
    "duration": 1410,
    "start_time": "2022-03-28T13:26:18.127Z"
   },
   {
    "duration": 160,
    "start_time": "2022-03-28T13:26:19.540Z"
   },
   {
    "duration": 21,
    "start_time": "2022-03-28T13:26:19.701Z"
   },
   {
    "duration": 72,
    "start_time": "2022-03-28T13:26:19.724Z"
   },
   {
    "duration": 135,
    "start_time": "2022-03-28T13:26:19.799Z"
   },
   {
    "duration": 7,
    "start_time": "2022-03-28T13:26:19.937Z"
   },
   {
    "duration": 71,
    "start_time": "2022-03-28T13:26:19.945Z"
   },
   {
    "duration": 22,
    "start_time": "2022-03-28T13:26:20.018Z"
   },
   {
    "duration": 36,
    "start_time": "2022-03-28T13:26:20.042Z"
   },
   {
    "duration": 45,
    "start_time": "2022-03-28T13:26:20.079Z"
   },
   {
    "duration": 15,
    "start_time": "2022-03-28T13:26:20.126Z"
   },
   {
    "duration": 25,
    "start_time": "2022-03-28T13:26:20.142Z"
   },
   {
    "duration": 275,
    "start_time": "2022-03-28T13:26:20.169Z"
   },
   {
    "duration": 72,
    "start_time": "2022-03-28T13:26:20.447Z"
   },
   {
    "duration": 47,
    "start_time": "2022-03-28T13:26:20.521Z"
   },
   {
    "duration": 76,
    "start_time": "2022-03-28T13:26:20.570Z"
   },
   {
    "duration": 61,
    "start_time": "2022-03-28T13:26:20.648Z"
   },
   {
    "duration": 226,
    "start_time": "2022-03-28T13:26:20.711Z"
   },
   {
    "duration": 40,
    "start_time": "2022-03-28T13:26:20.939Z"
   },
   {
    "duration": 68,
    "start_time": "2022-03-28T13:26:20.981Z"
   },
   {
    "duration": 22,
    "start_time": "2022-03-28T13:26:21.051Z"
   },
   {
    "duration": 27,
    "start_time": "2022-03-28T13:26:21.075Z"
   },
   {
    "duration": 5,
    "start_time": "2022-03-28T13:26:21.104Z"
   },
   {
    "duration": 142,
    "start_time": "2022-03-28T13:26:21.110Z"
   },
   {
    "duration": 17,
    "start_time": "2022-03-28T13:26:21.253Z"
   },
   {
    "duration": 181,
    "start_time": "2022-03-28T13:26:21.272Z"
   },
   {
    "duration": 177,
    "start_time": "2022-03-28T13:26:21.455Z"
   },
   {
    "duration": 178,
    "start_time": "2022-03-28T13:26:21.637Z"
   },
   {
    "duration": 22,
    "start_time": "2022-03-28T13:26:21.817Z"
   },
   {
    "duration": 22,
    "start_time": "2022-03-28T13:26:21.841Z"
   },
   {
    "duration": 297,
    "start_time": "2022-03-28T13:26:21.865Z"
   },
   {
    "duration": 16,
    "start_time": "2022-03-28T13:26:22.163Z"
   },
   {
    "duration": 75,
    "start_time": "2022-03-28T13:26:22.181Z"
   },
   {
    "duration": 1804,
    "start_time": "2022-03-28T14:41:31.074Z"
   },
   {
    "duration": 208,
    "start_time": "2022-03-28T14:41:32.883Z"
   },
   {
    "duration": 26,
    "start_time": "2022-03-28T14:41:33.094Z"
   },
   {
    "duration": 96,
    "start_time": "2022-03-28T14:41:33.123Z"
   },
   {
    "duration": 173,
    "start_time": "2022-03-28T14:41:33.221Z"
   },
   {
    "duration": 11,
    "start_time": "2022-03-28T14:41:33.396Z"
   },
   {
    "duration": 133,
    "start_time": "2022-03-28T14:41:33.409Z"
   },
   {
    "duration": 5,
    "start_time": "2022-03-28T14:41:33.544Z"
   },
   {
    "duration": 43,
    "start_time": "2022-03-28T14:41:33.551Z"
   },
   {
    "duration": 64,
    "start_time": "2022-03-28T14:41:33.598Z"
   },
   {
    "duration": 37,
    "start_time": "2022-03-28T14:41:33.664Z"
   },
   {
    "duration": 21,
    "start_time": "2022-03-28T14:41:33.704Z"
   },
   {
    "duration": 468,
    "start_time": "2022-03-28T14:41:33.727Z"
   },
   {
    "duration": 145,
    "start_time": "2022-03-28T14:41:34.197Z"
   },
   {
    "duration": 60,
    "start_time": "2022-03-28T14:41:34.345Z"
   },
   {
    "duration": 107,
    "start_time": "2022-03-28T14:41:34.408Z"
   },
   {
    "duration": 99,
    "start_time": "2022-03-28T14:41:34.518Z"
   },
   {
    "duration": 435,
    "start_time": "2022-03-28T14:41:34.620Z"
   },
   {
    "duration": 79,
    "start_time": "2022-03-28T14:41:35.058Z"
   },
   {
    "duration": 107,
    "start_time": "2022-03-28T14:41:35.140Z"
   },
   {
    "duration": 42,
    "start_time": "2022-03-28T14:41:35.250Z"
   },
   {
    "duration": 31,
    "start_time": "2022-03-28T14:41:35.295Z"
   },
   {
    "duration": 6,
    "start_time": "2022-03-28T14:41:35.329Z"
   },
   {
    "duration": 182,
    "start_time": "2022-03-28T14:41:35.337Z"
   },
   {
    "duration": 22,
    "start_time": "2022-03-28T14:41:35.521Z"
   },
   {
    "duration": 270,
    "start_time": "2022-03-28T14:41:35.546Z"
   },
   {
    "duration": 273,
    "start_time": "2022-03-28T14:41:35.818Z"
   },
   {
    "duration": 263,
    "start_time": "2022-03-28T14:41:36.097Z"
   },
   {
    "duration": 32,
    "start_time": "2022-03-28T14:41:36.362Z"
   },
   {
    "duration": 29,
    "start_time": "2022-03-28T14:41:36.396Z"
   },
   {
    "duration": 415,
    "start_time": "2022-03-28T14:41:36.427Z"
   },
   {
    "duration": 40,
    "start_time": "2022-03-28T14:41:36.845Z"
   },
   {
    "duration": 109,
    "start_time": "2022-03-28T14:41:36.887Z"
   },
   {
    "duration": 75,
    "start_time": "2022-03-28T17:45:43.929Z"
   },
   {
    "duration": 144,
    "start_time": "2022-03-28T17:47:57.768Z"
   },
   {
    "duration": 4,
    "start_time": "2022-03-28T17:48:28.785Z"
   },
   {
    "duration": 15,
    "start_time": "2022-03-28T17:48:38.726Z"
   },
   {
    "duration": 16,
    "start_time": "2022-03-28T17:48:50.690Z"
   },
   {
    "duration": 154,
    "start_time": "2022-03-28T17:50:53.465Z"
   },
   {
    "duration": 11,
    "start_time": "2022-03-28T18:18:55.813Z"
   },
   {
    "duration": 2484,
    "start_time": "2022-03-28T18:19:01.848Z"
   },
   {
    "duration": 411,
    "start_time": "2022-03-28T18:19:04.385Z"
   },
   {
    "duration": 28,
    "start_time": "2022-03-28T18:19:04.799Z"
   },
   {
    "duration": 146,
    "start_time": "2022-03-28T18:19:04.884Z"
   },
   {
    "duration": 343,
    "start_time": "2022-03-28T18:19:05.084Z"
   },
   {
    "duration": 63,
    "start_time": "2022-03-28T18:19:05.429Z"
   },
   {
    "duration": 214,
    "start_time": "2022-03-28T18:19:05.494Z"
   },
   {
    "duration": 5,
    "start_time": "2022-03-28T18:19:05.710Z"
   },
   {
    "duration": 65,
    "start_time": "2022-03-28T18:19:05.718Z"
   },
   {
    "duration": 125,
    "start_time": "2022-03-28T18:19:05.788Z"
   },
   {
    "duration": 70,
    "start_time": "2022-03-28T18:19:05.916Z"
   },
   {
    "duration": 25,
    "start_time": "2022-03-28T18:19:05.988Z"
   },
   {
    "duration": 899,
    "start_time": "2022-03-28T18:19:06.015Z"
   },
   {
    "duration": 212,
    "start_time": "2022-03-28T18:19:06.916Z"
   },
   {
    "duration": 47,
    "start_time": "2022-03-28T18:19:07.185Z"
   },
   {
    "duration": 209,
    "start_time": "2022-03-28T18:19:07.284Z"
   },
   {
    "duration": 136,
    "start_time": "2022-03-28T18:19:07.496Z"
   },
   {
    "duration": 344,
    "start_time": "2022-03-28T18:19:07.634Z"
   },
   {
    "duration": 49,
    "start_time": "2022-03-28T18:19:07.983Z"
   },
   {
    "duration": 95,
    "start_time": "2022-03-28T18:19:08.035Z"
   },
   {
    "duration": 30,
    "start_time": "2022-03-28T18:19:08.132Z"
   },
   {
    "duration": 50,
    "start_time": "2022-03-28T18:19:08.164Z"
   },
   {
    "duration": 5,
    "start_time": "2022-03-28T18:19:08.217Z"
   },
   {
    "duration": 181,
    "start_time": "2022-03-28T18:19:08.225Z"
   },
   {
    "duration": 25,
    "start_time": "2022-03-28T18:19:08.408Z"
   },
   {
    "duration": 285,
    "start_time": "2022-03-28T18:19:08.435Z"
   },
   {
    "duration": 282,
    "start_time": "2022-03-28T18:19:08.722Z"
   },
   {
    "duration": 275,
    "start_time": "2022-03-28T18:19:09.011Z"
   },
   {
    "duration": 29,
    "start_time": "2022-03-28T18:19:09.289Z"
   },
   {
    "duration": 24,
    "start_time": "2022-03-28T18:19:09.321Z"
   },
   {
    "duration": 425,
    "start_time": "2022-03-28T18:19:09.348Z"
   },
   {
    "duration": 30,
    "start_time": "2022-03-28T18:19:09.775Z"
   },
   {
    "duration": 105,
    "start_time": "2022-03-28T18:19:09.807Z"
   },
   {
    "duration": 62,
    "start_time": "2022-03-28T18:19:48.576Z"
   },
   {
    "duration": 139,
    "start_time": "2022-03-28T18:20:52.235Z"
   },
   {
    "duration": 44,
    "start_time": "2022-03-28T18:20:58.364Z"
   },
   {
    "duration": 47,
    "start_time": "2022-03-28T18:21:18.562Z"
   },
   {
    "duration": 364,
    "start_time": "2022-03-28T18:21:26.751Z"
   },
   {
    "duration": 53,
    "start_time": "2022-03-28T18:21:54.338Z"
   },
   {
    "duration": 137,
    "start_time": "2022-03-28T18:22:13.488Z"
   },
   {
    "duration": 48,
    "start_time": "2022-03-28T18:22:23.972Z"
   },
   {
    "duration": 164,
    "start_time": "2022-03-28T18:27:32.443Z"
   },
   {
    "duration": 47,
    "start_time": "2022-03-28T18:27:36.704Z"
   }
  ],
  "kernelspec": {
   "display_name": "Python 3",
   "language": "python",
   "name": "python3"
  },
  "language_info": {
   "codemirror_mode": {
    "name": "ipython",
    "version": 3
   },
   "file_extension": ".py",
   "mimetype": "text/x-python",
   "name": "python",
   "nbconvert_exporter": "python",
   "pygments_lexer": "ipython3",
   "version": "3.8.5"
  },
  "toc": {
   "base_numbering": 1,
   "nav_menu": {
    "height": "190px",
    "width": "319px"
   },
   "number_sections": true,
   "sideBar": true,
   "skip_h1_title": true,
   "title_cell": "Table of Contents",
   "title_sidebar": "Contents",
   "toc_cell": false,
   "toc_position": {
    "height": "calc(100% - 180px)",
    "left": "10px",
    "top": "150px",
    "width": "255.594px"
   },
   "toc_section_display": true,
   "toc_window_display": false
  }
 },
 "nbformat": 4,
 "nbformat_minor": 2
}
